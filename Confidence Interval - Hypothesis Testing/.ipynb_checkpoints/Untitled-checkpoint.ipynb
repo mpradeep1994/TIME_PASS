{
 "cells": [
  {
   "cell_type": "code",
   "execution_count": 3,
   "metadata": {},
   "outputs": [],
   "source": [
    "import numpy as np\n",
    "import scipy.stats as stats"
   ]
  },
  {
   "cell_type": "code",
   "execution_count": 4,
   "metadata": {},
   "outputs": [],
   "source": [
    "np.random.seed(6)\n",
    "\n",
    "population_ages1 = stats.poisson.rvs(loc=18, mu=35, size=150000)\n",
    "population_ages2 = stats.poisson.rvs(loc=18, mu=10, size=100000)\n",
    "population = np.concatenate((population_ages2,population_ages1))"
   ]
  },
  {
   "cell_type": "code",
   "execution_count": 13,
   "metadata": {
    "scrolled": true
   },
   "outputs": [
    {
     "name": "stdout",
     "output_type": "stream",
     "text": [
      "[27 28 28 ..., 60 58 56]\n",
      "250000\n"
     ]
    }
   ],
   "source": [
    "print population\n",
    "print population.size"
   ]
  },
  {
   "cell_type": "code",
   "execution_count": 14,
   "metadata": {},
   "outputs": [
    {
     "data": {
      "text/plain": [
       "43.000112000000001"
      ]
     },
     "execution_count": 14,
     "metadata": {},
     "output_type": "execute_result"
    }
   ],
   "source": [
    "population.mean()"
   ]
  },
  {
   "cell_type": "code",
   "execution_count": 11,
   "metadata": {},
   "outputs": [],
   "source": [
    "n=500\n",
    "sample = np.random.choice(a=population,size=n)"
   ]
  },
  {
   "cell_type": "code",
   "execution_count": null,
   "metadata": {},
   "outputs": [],
   "source": []
  },
  {
   "cell_type": "code",
   "execution_count": 12,
   "metadata": {},
   "outputs": [
    {
     "data": {
      "text/plain": [
       "array([32, 46, 29, 30, 25, 27, 52, 59, 65, 56, 60, 57, 33, 48, 31, 53, 36,\n",
       "       50, 27, 48, 55, 33, 28, 56, 55, 67, 65, 53, 50, 28, 55, 29, 51, 58,\n",
       "       55, 47, 56, 22, 27, 26, 51, 35, 43, 28, 48, 52, 23, 32, 54, 58, 59,\n",
       "       25, 27, 58, 50, 30, 55, 55, 50, 52, 56, 21, 61, 27, 44, 50, 50, 50,\n",
       "       29, 35, 32, 28, 29, 47, 25, 58, 48, 56, 58, 24, 23, 59, 26, 53, 30,\n",
       "       22, 28, 58, 27, 29, 47, 52, 52, 32, 49, 26, 57, 42, 30, 36, 27, 26,\n",
       "       56, 63, 48, 48, 29, 47, 56, 52, 29, 25, 51, 29, 53, 57, 22, 27, 57,\n",
       "       31, 28, 56, 46, 53, 62, 21, 50, 28, 51, 59, 53, 35, 30, 58, 27, 56,\n",
       "       53, 50, 22, 55, 60, 43, 50, 55, 52, 26, 52, 28, 48, 31, 25, 61, 60,\n",
       "       62, 62, 31, 46, 31, 54, 28, 24, 48, 28, 30, 62, 56, 26, 55, 23, 42,\n",
       "       61, 30, 56, 55, 44, 54, 42, 53, 51, 49, 51, 53, 52, 55, 51, 29, 58,\n",
       "       46, 29, 56, 34, 24, 55, 25, 56, 31, 21, 29, 53, 43, 35, 65, 33, 50,\n",
       "       51, 30, 26, 53, 26, 30, 57, 50, 52, 46, 25, 58, 30, 31, 62, 57, 67,\n",
       "       57, 59, 46, 32, 44, 43, 32, 26, 29, 54, 52, 47, 28, 25, 46, 25, 27,\n",
       "       30, 49, 36, 58, 30, 48, 32, 52, 26, 26, 30, 50, 24, 59, 33, 25, 60,\n",
       "       47, 48, 26, 33, 38, 52, 54, 29, 55, 24, 48, 25, 26, 50, 24, 57, 27,\n",
       "       53, 58, 31, 27, 54, 37, 27, 29, 58, 49, 63, 28, 32, 27, 47, 28, 56,\n",
       "       49, 58, 30, 42, 27, 53, 56, 30, 32, 32, 59, 59, 28, 27, 50, 49, 46,\n",
       "       67, 29, 53, 60, 56, 45, 61, 54, 23, 50, 24, 57, 52, 51, 54, 23, 29,\n",
       "       48, 58, 38, 30, 50, 62, 55, 56, 53, 27, 60, 57, 49, 61, 30, 51, 26,\n",
       "       23, 48, 27, 30, 23, 53, 47, 48, 29, 55, 26, 34, 27, 30, 28, 25, 46,\n",
       "       49, 68, 30, 58, 51, 49, 53, 56, 67, 56, 38, 26, 54, 28, 24, 62, 65,\n",
       "       55, 57, 56, 59, 52, 27, 27, 61, 46, 30, 28, 35, 21, 31, 62, 26, 58,\n",
       "       49, 26, 31, 38, 53, 28, 62, 58, 58, 25, 32, 51, 26, 25, 49, 51, 31,\n",
       "       41, 32, 59, 52, 49, 31, 61, 26, 33, 53, 59, 48, 47, 27, 51, 55, 27,\n",
       "       57, 22, 24, 46, 30, 28, 34, 26, 35, 46, 53, 49, 41, 27, 34, 63, 50,\n",
       "       52, 54, 53, 27, 53, 22, 53, 57, 54, 57, 32, 48, 47, 48, 28, 58, 59,\n",
       "       51, 52, 29, 57, 27, 41, 29, 56, 56, 51, 27, 31, 51, 53, 27, 54, 54,\n",
       "       57, 63, 29, 24, 56, 55, 26, 52, 57, 54, 64, 31, 32, 24, 58, 59, 21,\n",
       "       50, 53, 45, 48, 45, 27, 33])"
      ]
     },
     "execution_count": 12,
     "metadata": {},
     "output_type": "execute_result"
    }
   ],
   "source": [
    "sample"
   ]
  },
  {
   "cell_type": "code",
   "execution_count": null,
   "metadata": {},
   "outputs": [],
   "source": []
  }
 ],
 "metadata": {
  "kernelspec": {
   "display_name": "Python 2",
   "language": "python",
   "name": "python2"
  },
  "language_info": {
   "codemirror_mode": {
    "name": "ipython",
    "version": 2
   },
   "file_extension": ".py",
   "mimetype": "text/x-python",
   "name": "python",
   "nbconvert_exporter": "python",
   "pygments_lexer": "ipython2",
   "version": "2.7.14"
  }
 },
 "nbformat": 4,
 "nbformat_minor": 2
}
