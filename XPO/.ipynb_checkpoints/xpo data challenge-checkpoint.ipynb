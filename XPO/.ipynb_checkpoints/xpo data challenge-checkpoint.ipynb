{
 "cells": [
  {
   "cell_type": "code",
   "execution_count": 150,
   "metadata": {},
   "outputs": [],
   "source": [
    "import pandas as pd\n",
    "import matplotlib.pyplot as plt\n",
    "%matplotlib inline"
   ]
  },
  {
   "cell_type": "code",
   "execution_count": 151,
   "metadata": {},
   "outputs": [],
   "source": [
    "accident = pd.read_csv('accident.csv')\n",
    "person = pd.read_csv('person.csv')\n",
    "vindecode = pd.read_csv('vindecode.csv')"
   ]
  },
  {
   "cell_type": "code",
   "execution_count": 152,
   "metadata": {},
   "outputs": [
    {
     "data": {
      "text/html": [
       "<div>\n",
       "<style scoped>\n",
       "    .dataframe tbody tr th:only-of-type {\n",
       "        vertical-align: middle;\n",
       "    }\n",
       "\n",
       "    .dataframe tbody tr th {\n",
       "        vertical-align: top;\n",
       "    }\n",
       "\n",
       "    .dataframe thead th {\n",
       "        text-align: right;\n",
       "    }\n",
       "</style>\n",
       "<table border=\"1\" class=\"dataframe\">\n",
       "  <thead>\n",
       "    <tr style=\"text-align: right;\">\n",
       "      <th></th>\n",
       "      <th>STATE</th>\n",
       "      <th>ST_CASE</th>\n",
       "      <th>PERMVIT</th>\n",
       "      <th>COUNTY</th>\n",
       "      <th>CITY</th>\n",
       "      <th>DAY</th>\n",
       "      <th>MONTH</th>\n",
       "      <th>YEAR</th>\n",
       "      <th>DAY_WEEK</th>\n",
       "      <th>HOUR</th>\n",
       "      <th>...</th>\n",
       "      <th>LATITUDE</th>\n",
       "      <th>LONGITUD</th>\n",
       "      <th>SP_JUR</th>\n",
       "      <th>NOT_HOUR</th>\n",
       "      <th>NOT_MIN</th>\n",
       "      <th>ARR_HOUR</th>\n",
       "      <th>ARR_MIN</th>\n",
       "      <th>HOSP_HR</th>\n",
       "      <th>HOSP_MN</th>\n",
       "      <th>DRUNK_DR</th>\n",
       "    </tr>\n",
       "  </thead>\n",
       "  <tbody>\n",
       "    <tr>\n",
       "      <th>0</th>\n",
       "      <td>1</td>\n",
       "      <td>10001</td>\n",
       "      <td>1</td>\n",
       "      <td>127</td>\n",
       "      <td>0</td>\n",
       "      <td>1</td>\n",
       "      <td>1</td>\n",
       "      <td>2015</td>\n",
       "      <td>5</td>\n",
       "      <td>2</td>\n",
       "      <td>...</td>\n",
       "      <td>33.878653</td>\n",
       "      <td>-87.325328</td>\n",
       "      <td>0</td>\n",
       "      <td>99</td>\n",
       "      <td>99</td>\n",
       "      <td>2</td>\n",
       "      <td>58</td>\n",
       "      <td>88</td>\n",
       "      <td>88</td>\n",
       "      <td>1</td>\n",
       "    </tr>\n",
       "    <tr>\n",
       "      <th>1</th>\n",
       "      <td>1</td>\n",
       "      <td>10002</td>\n",
       "      <td>1</td>\n",
       "      <td>83</td>\n",
       "      <td>0</td>\n",
       "      <td>1</td>\n",
       "      <td>1</td>\n",
       "      <td>2015</td>\n",
       "      <td>5</td>\n",
       "      <td>22</td>\n",
       "      <td>...</td>\n",
       "      <td>34.910442</td>\n",
       "      <td>-86.908708</td>\n",
       "      <td>0</td>\n",
       "      <td>99</td>\n",
       "      <td>99</td>\n",
       "      <td>22</td>\n",
       "      <td>20</td>\n",
       "      <td>88</td>\n",
       "      <td>88</td>\n",
       "      <td>0</td>\n",
       "    </tr>\n",
       "    <tr>\n",
       "      <th>2</th>\n",
       "      <td>1</td>\n",
       "      <td>10003</td>\n",
       "      <td>2</td>\n",
       "      <td>11</td>\n",
       "      <td>0</td>\n",
       "      <td>1</td>\n",
       "      <td>1</td>\n",
       "      <td>2015</td>\n",
       "      <td>5</td>\n",
       "      <td>1</td>\n",
       "      <td>...</td>\n",
       "      <td>32.142006</td>\n",
       "      <td>-85.758456</td>\n",
       "      <td>0</td>\n",
       "      <td>99</td>\n",
       "      <td>99</td>\n",
       "      <td>1</td>\n",
       "      <td>45</td>\n",
       "      <td>99</td>\n",
       "      <td>99</td>\n",
       "      <td>1</td>\n",
       "    </tr>\n",
       "    <tr>\n",
       "      <th>3</th>\n",
       "      <td>1</td>\n",
       "      <td>10004</td>\n",
       "      <td>1</td>\n",
       "      <td>45</td>\n",
       "      <td>0</td>\n",
       "      <td>4</td>\n",
       "      <td>1</td>\n",
       "      <td>2015</td>\n",
       "      <td>1</td>\n",
       "      <td>0</td>\n",
       "      <td>...</td>\n",
       "      <td>31.439814</td>\n",
       "      <td>-85.510300</td>\n",
       "      <td>0</td>\n",
       "      <td>99</td>\n",
       "      <td>99</td>\n",
       "      <td>1</td>\n",
       "      <td>15</td>\n",
       "      <td>88</td>\n",
       "      <td>88</td>\n",
       "      <td>1</td>\n",
       "    </tr>\n",
       "    <tr>\n",
       "      <th>4</th>\n",
       "      <td>1</td>\n",
       "      <td>10005</td>\n",
       "      <td>2</td>\n",
       "      <td>45</td>\n",
       "      <td>2050</td>\n",
       "      <td>7</td>\n",
       "      <td>1</td>\n",
       "      <td>2015</td>\n",
       "      <td>4</td>\n",
       "      <td>7</td>\n",
       "      <td>...</td>\n",
       "      <td>31.319331</td>\n",
       "      <td>-85.515100</td>\n",
       "      <td>0</td>\n",
       "      <td>99</td>\n",
       "      <td>99</td>\n",
       "      <td>7</td>\n",
       "      <td>16</td>\n",
       "      <td>88</td>\n",
       "      <td>88</td>\n",
       "      <td>0</td>\n",
       "    </tr>\n",
       "  </tbody>\n",
       "</table>\n",
       "<p>5 rows × 25 columns</p>\n",
       "</div>"
      ],
      "text/plain": [
       "   STATE  ST_CASE  PERMVIT  COUNTY  CITY  DAY  MONTH  YEAR  DAY_WEEK  HOUR  \\\n",
       "0      1    10001        1     127     0    1      1  2015         5     2   \n",
       "1      1    10002        1      83     0    1      1  2015         5    22   \n",
       "2      1    10003        2      11     0    1      1  2015         5     1   \n",
       "3      1    10004        1      45     0    4      1  2015         1     0   \n",
       "4      1    10005        2      45  2050    7      1  2015         4     7   \n",
       "\n",
       "     ...      LATITUDE   LONGITUD SP_JUR NOT_HOUR  NOT_MIN  ARR_HOUR  ARR_MIN  \\\n",
       "0    ...     33.878653 -87.325328      0       99       99         2       58   \n",
       "1    ...     34.910442 -86.908708      0       99       99        22       20   \n",
       "2    ...     32.142006 -85.758456      0       99       99         1       45   \n",
       "3    ...     31.439814 -85.510300      0       99       99         1       15   \n",
       "4    ...     31.319331 -85.515100      0       99       99         7       16   \n",
       "\n",
       "   HOSP_HR  HOSP_MN  DRUNK_DR  \n",
       "0       88       88         1  \n",
       "1       88       88         0  \n",
       "2       99       99         1  \n",
       "3       88       88         1  \n",
       "4       88       88         0  \n",
       "\n",
       "[5 rows x 25 columns]"
      ]
     },
     "execution_count": 152,
     "metadata": {},
     "output_type": "execute_result"
    }
   ],
   "source": [
    "accident.head()"
   ]
  },
  {
   "cell_type": "code",
   "execution_count": 153,
   "metadata": {},
   "outputs": [],
   "source": [
    "count = accident[['ST_CASE','STATE']].groupby(['STATE']).agg(['count'])"
   ]
  },
  {
   "cell_type": "code",
   "execution_count": 170,
   "metadata": {},
   "outputs": [
    {
     "data": {
      "text/plain": [
       "Text(0,0.5,u'count')"
      ]
     },
     "execution_count": 170,
     "metadata": {},
     "output_type": "execute_result"
    },
    {
     "data": {
      "image/png": "[encoded data removed]",
      "text/plain": [
       "<matplotlib.figure.Figure at 0x16998130>"
      ]
     },
     "metadata": {},
     "output_type": "display_data"
    }
   ],
   "source": [
    "#Question 1 - Visualize the count of accidents by 'STATE' wise\n",
    "count.plot(kind='bar',figsize=(10,10))\n",
    "plt.xlabel('state')\n",
    "plt.ylabel('count')\n",
    "\n"
   ]
  },
  {
   "cell_type": "code",
   "execution_count": 155,
   "metadata": {},
   "outputs": [
    {
     "data": {
      "text/plain": [
       "Index([u'STATE', u'ST_CASE', u'PERMVIT', u'COUNTY', u'CITY', u'DAY', u'MONTH',\n",
       "       u'YEAR', u'DAY_WEEK', u'HOUR', u'MINUTE', u'ROUTE', u'TWAY_ID',\n",
       "       u'TWAY_ID2', u'MILEPT', u'LATITUDE', u'LONGITUD', u'SP_JUR',\n",
       "       u'NOT_HOUR', u'NOT_MIN', u'ARR_HOUR', u'ARR_MIN', u'HOSP_HR',\n",
       "       u'HOSP_MN', u'DRUNK_DR'],\n",
       "      dtype='object')"
      ]
     },
     "execution_count": 155,
     "metadata": {},
     "output_type": "execute_result"
    }
   ],
   "source": [
    "accident.columns"
   ]
  },
  {
   "cell_type": "code",
   "execution_count": 156,
   "metadata": {},
   "outputs": [
    {
     "data": {
      "text/html": [
       "<div>\n",
       "<style scoped>\n",
       "    .dataframe tbody tr th:only-of-type {\n",
       "        vertical-align: middle;\n",
       "    }\n",
       "\n",
       "    .dataframe tbody tr th {\n",
       "        vertical-align: top;\n",
       "    }\n",
       "\n",
       "    .dataframe thead th {\n",
       "        text-align: right;\n",
       "    }\n",
       "</style>\n",
       "<table border=\"1\" class=\"dataframe\">\n",
       "  <thead>\n",
       "    <tr style=\"text-align: right;\">\n",
       "      <th></th>\n",
       "      <th>STATE</th>\n",
       "      <th>ST_CASE</th>\n",
       "    </tr>\n",
       "  </thead>\n",
       "  <tbody>\n",
       "    <tr>\n",
       "      <th>0</th>\n",
       "      <td>1</td>\n",
       "      <td>10001</td>\n",
       "    </tr>\n",
       "    <tr>\n",
       "      <th>1</th>\n",
       "      <td>1</td>\n",
       "      <td>10002</td>\n",
       "    </tr>\n",
       "    <tr>\n",
       "      <th>2</th>\n",
       "      <td>1</td>\n",
       "      <td>10003</td>\n",
       "    </tr>\n",
       "    <tr>\n",
       "      <th>3</th>\n",
       "      <td>1</td>\n",
       "      <td>10004</td>\n",
       "    </tr>\n",
       "    <tr>\n",
       "      <th>4</th>\n",
       "      <td>1</td>\n",
       "      <td>10005</td>\n",
       "    </tr>\n",
       "  </tbody>\n",
       "</table>\n",
       "</div>"
      ],
      "text/plain": [
       "   STATE  ST_CASE\n",
       "0      1    10001\n",
       "1      1    10002\n",
       "2      1    10003\n",
       "3      1    10004\n",
       "4      1    10005"
      ]
     },
     "execution_count": 156,
     "metadata": {},
     "output_type": "execute_result"
    }
   ],
   "source": [
    "acc_subset= accident[['STATE', 'ST_CASE']]\n",
    "acc_subset.head()"
   ]
  },
  {
   "cell_type": "code",
   "execution_count": 157,
   "metadata": {},
   "outputs": [
    {
     "data": {
      "text/html": [
       "<div>\n",
       "<style scoped>\n",
       "    .dataframe tbody tr th:only-of-type {\n",
       "        vertical-align: middle;\n",
       "    }\n",
       "\n",
       "    .dataframe tbody tr th {\n",
       "        vertical-align: top;\n",
       "    }\n",
       "\n",
       "    .dataframe thead th {\n",
       "        text-align: right;\n",
       "    }\n",
       "</style>\n",
       "<table border=\"1\" class=\"dataframe\">\n",
       "  <thead>\n",
       "    <tr style=\"text-align: right;\">\n",
       "      <th></th>\n",
       "      <th>ST_CASE</th>\n",
       "      <th>COUNTY</th>\n",
       "      <th>AGE</th>\n",
       "      <th>SEX</th>\n",
       "      <th>PER_TYP</th>\n",
       "      <th>INJ_SEV</th>\n",
       "      <th>SEAT_POS</th>\n",
       "      <th>DEATH_DA</th>\n",
       "      <th>DEATH_MO</th>\n",
       "      <th>DEATH_YR</th>\n",
       "      <th>DEATH_HR</th>\n",
       "      <th>DEATH_MN</th>\n",
       "      <th>DEATH_TM</th>\n",
       "      <th>RACE</th>\n",
       "      <th>LOCATION</th>\n",
       "    </tr>\n",
       "  </thead>\n",
       "  <tbody>\n",
       "    <tr>\n",
       "      <th>0</th>\n",
       "      <td>10001</td>\n",
       "      <td>127</td>\n",
       "      <td>68</td>\n",
       "      <td>1</td>\n",
       "      <td>1</td>\n",
       "      <td>4</td>\n",
       "      <td>11</td>\n",
       "      <td>1</td>\n",
       "      <td>1</td>\n",
       "      <td>2015</td>\n",
       "      <td>2</td>\n",
       "      <td>40</td>\n",
       "      <td>240</td>\n",
       "      <td>1</td>\n",
       "      <td>0</td>\n",
       "    </tr>\n",
       "    <tr>\n",
       "      <th>1</th>\n",
       "      <td>10002</td>\n",
       "      <td>83</td>\n",
       "      <td>49</td>\n",
       "      <td>1</td>\n",
       "      <td>1</td>\n",
       "      <td>4</td>\n",
       "      <td>11</td>\n",
       "      <td>1</td>\n",
       "      <td>1</td>\n",
       "      <td>2015</td>\n",
       "      <td>22</td>\n",
       "      <td>13</td>\n",
       "      <td>2213</td>\n",
       "      <td>1</td>\n",
       "      <td>0</td>\n",
       "    </tr>\n",
       "    <tr>\n",
       "      <th>2</th>\n",
       "      <td>10003</td>\n",
       "      <td>11</td>\n",
       "      <td>31</td>\n",
       "      <td>1</td>\n",
       "      <td>1</td>\n",
       "      <td>4</td>\n",
       "      <td>11</td>\n",
       "      <td>1</td>\n",
       "      <td>1</td>\n",
       "      <td>2015</td>\n",
       "      <td>1</td>\n",
       "      <td>25</td>\n",
       "      <td>125</td>\n",
       "      <td>2</td>\n",
       "      <td>0</td>\n",
       "    </tr>\n",
       "    <tr>\n",
       "      <th>3</th>\n",
       "      <td>10003</td>\n",
       "      <td>11</td>\n",
       "      <td>20</td>\n",
       "      <td>2</td>\n",
       "      <td>2</td>\n",
       "      <td>2</td>\n",
       "      <td>13</td>\n",
       "      <td>88</td>\n",
       "      <td>88</td>\n",
       "      <td>8888</td>\n",
       "      <td>88</td>\n",
       "      <td>88</td>\n",
       "      <td>8888</td>\n",
       "      <td>0</td>\n",
       "      <td>0</td>\n",
       "    </tr>\n",
       "    <tr>\n",
       "      <th>4</th>\n",
       "      <td>10004</td>\n",
       "      <td>45</td>\n",
       "      <td>40</td>\n",
       "      <td>1</td>\n",
       "      <td>1</td>\n",
       "      <td>4</td>\n",
       "      <td>11</td>\n",
       "      <td>4</td>\n",
       "      <td>1</td>\n",
       "      <td>2015</td>\n",
       "      <td>0</td>\n",
       "      <td>57</td>\n",
       "      <td>57</td>\n",
       "      <td>1</td>\n",
       "      <td>0</td>\n",
       "    </tr>\n",
       "  </tbody>\n",
       "</table>\n",
       "</div>"
      ],
      "text/plain": [
       "   ST_CASE  COUNTY  AGE  SEX  PER_TYP  INJ_SEV  SEAT_POS  DEATH_DA  DEATH_MO  \\\n",
       "0    10001     127   68    1        1        4        11         1         1   \n",
       "1    10002      83   49    1        1        4        11         1         1   \n",
       "2    10003      11   31    1        1        4        11         1         1   \n",
       "3    10003      11   20    2        2        2        13        88        88   \n",
       "4    10004      45   40    1        1        4        11         4         1   \n",
       "\n",
       "   DEATH_YR  DEATH_HR  DEATH_MN  DEATH_TM  RACE  LOCATION  \n",
       "0      2015         2        40       240     1         0  \n",
       "1      2015        22        13      2213     1         0  \n",
       "2      2015         1        25       125     2         0  \n",
       "3      8888        88        88      8888     0         0  \n",
       "4      2015         0        57        57     1         0  "
      ]
     },
     "execution_count": 157,
     "metadata": {},
     "output_type": "execute_result"
    }
   ],
   "source": [
    "person.head()"
   ]
  },
  {
   "cell_type": "code",
   "execution_count": 158,
   "metadata": {},
   "outputs": [],
   "source": [
    "#person data has different year.\n",
    "# I have merged person and accident. only\n",
    "new_person =person.merge(acc_subset, on=('ST_CASE'))\n"
   ]
  },
  {
   "cell_type": "code",
   "execution_count": 159,
   "metadata": {},
   "outputs": [
    {
     "data": {
      "text/plain": [
       "8888    45495\n",
       "2015    34759\n",
       "9999      259\n",
       "2016       74\n",
       "Name: DEATH_YR, dtype: int64"
      ]
     },
     "execution_count": 159,
     "metadata": {},
     "output_type": "execute_result"
    }
   ],
   "source": [
    "new_person.DEATH_YR.value_counts()"
   ]
  },
  {
   "cell_type": "code",
   "execution_count": 160,
   "metadata": {},
   "outputs": [],
   "source": [
    "#My assumption here \n",
    "#NO explanation given for 9999 and I am not counting it for the analysis\n",
    "#Any number less than 8888 is consdired to be a valid year\n",
    "new_person_dead = new_person[new_person.DEATH_YR < 8888]"
   ]
  },
  {
   "cell_type": "code",
   "execution_count": 161,
   "metadata": {},
   "outputs": [
    {
     "data": {
      "text/plain": [
       "2015    34759\n",
       "2016       74\n",
       "Name: DEATH_YR, dtype: int64"
      ]
     },
     "execution_count": 161,
     "metadata": {},
     "output_type": "execute_result"
    }
   ],
   "source": [
    "new_person_dead.DEATH_YR.value_counts()"
   ]
  },
  {
   "cell_type": "code",
   "execution_count": 162,
   "metadata": {},
   "outputs": [
    {
     "data": {
      "text/plain": [
       "ST_CASE     34833\n",
       "COUNTY      34833\n",
       "AGE         34833\n",
       "SEX         34833\n",
       "PER_TYP     34833\n",
       "INJ_SEV     34833\n",
       "SEAT_POS    34833\n",
       "DEATH_DA    34833\n",
       "DEATH_MO    34833\n",
       "DEATH_YR    34833\n",
       "DEATH_HR    34833\n",
       "DEATH_MN    34833\n",
       "DEATH_TM    34833\n",
       "RACE        34833\n",
       "LOCATION    34833\n",
       "STATE       34833\n",
       "dtype: int64"
      ]
     },
     "execution_count": 162,
     "metadata": {},
     "output_type": "execute_result"
    }
   ],
   "source": [
    "new_person_dead.count()"
   ]
  },
  {
   "cell_type": "code",
   "execution_count": 187,
   "metadata": {},
   "outputs": [
    {
     "name": "stdout",
     "output_type": "stream",
     "text": [
      "      ST_CASE\n",
      "        count\n",
      "STATE        \n",
      "48       3515\n",
      "6        3137\n",
      "12       2937\n",
      "13       1430\n",
      "37       1255\n"
     ]
    }
   ],
   "source": [
    "# Question 2 - Find top five states with highest number of  persons died  \n",
    "count1 = new_person_dead[['ST_CASE','STATE']].groupby(['STATE']).agg({'ST_CASE':['count']})\n",
    "top5= count1.sort_values([(\"ST_CASE\",'count')], ascending=False).head(5)\n",
    "print top5"
   ]
  },
  {
   "cell_type": "code",
   "execution_count": 164,
   "metadata": {},
   "outputs": [],
   "source": [
    "new_person_alive = new_person[new_person.DEATH_YR == 8888]"
   ]
  },
  {
   "cell_type": "code",
   "execution_count": 202,
   "metadata": {},
   "outputs": [],
   "source": [
    "count_alive = new_person_alive[['ST_CASE','STATE']].groupby(['STATE']).agg({'ST_CASE':['count']})"
   ]
  },
  {
   "cell_type": "code",
   "execution_count": 203,
   "metadata": {},
   "outputs": [],
   "source": [
    "count_all = new_person[['ST_CASE','STATE']].groupby(['STATE']).agg({'ST_CASE':['count']})"
   ]
  },
  {
   "cell_type": "code",
   "execution_count": 204,
   "metadata": {},
   "outputs": [
    {
     "name": "stdout",
     "output_type": "stream",
     "text": [
      "      ST_CASE\n",
      "        count\n",
      "STATE        \n",
      "1        1031\n",
      "2          93\n",
      "4        1271\n",
      "5         600\n",
      "6        4446\n",
      "      ST_CASE\n",
      "        count\n",
      "STATE        \n",
      "1        1880\n",
      "2         158\n",
      "4        2164\n",
      "5        1131\n",
      "6        7622\n"
     ]
    }
   ],
   "source": [
    "print count_alive.head(5)\n",
    "print count_all.head(5)"
   ]
  },
  {
   "cell_type": "code",
   "execution_count": 205,
   "metadata": {},
   "outputs": [
    {
     "data": {
      "text/html": [
       "<div>\n",
       "<style scoped>\n",
       "    .dataframe tbody tr th:only-of-type {\n",
       "        vertical-align: middle;\n",
       "    }\n",
       "\n",
       "    .dataframe tbody tr th {\n",
       "        vertical-align: top;\n",
       "    }\n",
       "\n",
       "    .dataframe thead tr th {\n",
       "        text-align: left;\n",
       "    }\n",
       "\n",
       "    .dataframe thead tr:last-of-type th {\n",
       "        text-align: right;\n",
       "    }\n",
       "</style>\n",
       "<table border=\"1\" class=\"dataframe\">\n",
       "  <thead>\n",
       "    <tr>\n",
       "      <th></th>\n",
       "      <th>ST_CASE</th>\n",
       "    </tr>\n",
       "    <tr>\n",
       "      <th></th>\n",
       "      <th>count</th>\n",
       "    </tr>\n",
       "    <tr>\n",
       "      <th>STATE</th>\n",
       "      <th></th>\n",
       "    </tr>\n",
       "  </thead>\n",
       "  <tbody>\n",
       "    <tr>\n",
       "      <th>1</th>\n",
       "      <td>1880</td>\n",
       "    </tr>\n",
       "    <tr>\n",
       "      <th>2</th>\n",
       "      <td>158</td>\n",
       "    </tr>\n",
       "    <tr>\n",
       "      <th>4</th>\n",
       "      <td>2164</td>\n",
       "    </tr>\n",
       "    <tr>\n",
       "      <th>5</th>\n",
       "      <td>1131</td>\n",
       "    </tr>\n",
       "    <tr>\n",
       "      <th>6</th>\n",
       "      <td>7622</td>\n",
       "    </tr>\n",
       "  </tbody>\n",
       "</table>\n",
       "</div>"
      ],
      "text/plain": [
       "      ST_CASE\n",
       "        count\n",
       "STATE        \n",
       "1        1880\n",
       "2         158\n",
       "4        2164\n",
       "5        1131\n",
       "6        7622"
      ]
     },
     "execution_count": 205,
     "metadata": {},
     "output_type": "execute_result"
    }
   ],
   "source": [
    "count_all.head()\n"
   ]
  },
  {
   "cell_type": "code",
   "execution_count": 206,
   "metadata": {},
   "outputs": [
    {
     "data": {
      "text/html": [
       "<div>\n",
       "<style scoped>\n",
       "    .dataframe tbody tr th:only-of-type {\n",
       "        vertical-align: middle;\n",
       "    }\n",
       "\n",
       "    .dataframe tbody tr th {\n",
       "        vertical-align: top;\n",
       "    }\n",
       "\n",
       "    .dataframe thead tr th {\n",
       "        text-align: left;\n",
       "    }\n",
       "\n",
       "    .dataframe thead tr:last-of-type th {\n",
       "        text-align: right;\n",
       "    }\n",
       "</style>\n",
       "<table border=\"1\" class=\"dataframe\">\n",
       "  <thead>\n",
       "    <tr>\n",
       "      <th></th>\n",
       "      <th>ST_CASE</th>\n",
       "    </tr>\n",
       "    <tr>\n",
       "      <th></th>\n",
       "      <th>count</th>\n",
       "    </tr>\n",
       "    <tr>\n",
       "      <th>STATE</th>\n",
       "      <th></th>\n",
       "    </tr>\n",
       "  </thead>\n",
       "  <tbody>\n",
       "    <tr>\n",
       "      <th>1</th>\n",
       "      <td>1031</td>\n",
       "    </tr>\n",
       "    <tr>\n",
       "      <th>2</th>\n",
       "      <td>93</td>\n",
       "    </tr>\n",
       "    <tr>\n",
       "      <th>4</th>\n",
       "      <td>1271</td>\n",
       "    </tr>\n",
       "    <tr>\n",
       "      <th>5</th>\n",
       "      <td>600</td>\n",
       "    </tr>\n",
       "    <tr>\n",
       "      <th>6</th>\n",
       "      <td>4446</td>\n",
       "    </tr>\n",
       "  </tbody>\n",
       "</table>\n",
       "</div>"
      ],
      "text/plain": [
       "      ST_CASE\n",
       "        count\n",
       "STATE        \n",
       "1        1031\n",
       "2          93\n",
       "4        1271\n",
       "5         600\n",
       "6        4446"
      ]
     },
     "execution_count": 206,
     "metadata": {},
     "output_type": "execute_result"
    }
   ],
   "source": [
    "count_alive.head()"
   ]
  },
  {
   "cell_type": "code",
   "execution_count": 257,
   "metadata": {},
   "outputs": [
    {
     "data": {
      "text/plain": [
       "MultiIndex(levels=[[u'ST_CASE_C', u'STATE'], [u'count_C', u'']],\n",
       "           labels=[[1, 0], [1, 0]])"
      ]
     },
     "execution_count": 257,
     "metadata": {},
     "output_type": "execute_result"
    }
   ],
   "source": [
    "count_alive.columns[0]\n",
    "temp1 =count_alive.add_suffix('_C').reset_index()\n",
    "temp1.columns\n",
    "temp1.ST_CASE_C\n",
    "temp2 =count_all.add_suffix('_C').reset_index()\n",
    "temp2.columns\n",
    "#print temp1.ST_CASE_C/temp2.ST_CASE_C\n",
    "#print temp1.STATE"
   ]
  },
  {
   "cell_type": "code",
   "execution_count": 258,
   "metadata": {},
   "outputs": [],
   "source": [
    "# Question 3 -Find top five states with highest survival rate (Total persons survived in a state/Total number of accidents in a state) \n",
    "question3= temp1.merge(temp2,on=temp1.STATE)"
   ]
  },
  {
   "cell_type": "code",
   "execution_count": 259,
   "metadata": {},
   "outputs": [],
   "source": [
    "#question3.reset_index(inplace=True)  \n",
    "question3['survived'] = question3.ST_CASE_C_x / question3.ST_CASE_C_y*100"
   ]
  },
  {
   "cell_type": "code",
   "execution_count": 260,
   "metadata": {},
   "outputs": [
    {
     "data": {
      "text/html": [
       "<div>\n",
       "<style scoped>\n",
       "    .dataframe tbody tr th:only-of-type {\n",
       "        vertical-align: middle;\n",
       "    }\n",
       "\n",
       "    .dataframe tbody tr th {\n",
       "        vertical-align: top;\n",
       "    }\n",
       "\n",
       "    .dataframe thead tr th {\n",
       "        text-align: left;\n",
       "    }\n",
       "\n",
       "    .dataframe thead tr:last-of-type th {\n",
       "        text-align: right;\n",
       "    }\n",
       "</style>\n",
       "<table border=\"1\" class=\"dataframe\">\n",
       "  <thead>\n",
       "    <tr>\n",
       "      <th></th>\n",
       "      <th>survived</th>\n",
       "    </tr>\n",
       "    <tr>\n",
       "      <th></th>\n",
       "      <th></th>\n",
       "    </tr>\n",
       "    <tr>\n",
       "      <th>STATE_x</th>\n",
       "      <th></th>\n",
       "    </tr>\n",
       "  </thead>\n",
       "  <tbody>\n",
       "    <tr>\n",
       "      <th>11</th>\n",
       "      <td>63.492063</td>\n",
       "    </tr>\n",
       "    <tr>\n",
       "      <th>49</th>\n",
       "      <td>60.851064</td>\n",
       "    </tr>\n",
       "    <tr>\n",
       "      <th>32</th>\n",
       "      <td>59.577114</td>\n",
       "    </tr>\n",
       "    <tr>\n",
       "      <th>53</th>\n",
       "      <td>59.166068</td>\n",
       "    </tr>\n",
       "    <tr>\n",
       "      <th>44</th>\n",
       "      <td>59.090909</td>\n",
       "    </tr>\n",
       "  </tbody>\n",
       "</table>\n",
       "</div>"
      ],
      "text/plain": [
       "          survived\n",
       "                  \n",
       "STATE_x           \n",
       "11       63.492063\n",
       "49       60.851064\n",
       "32       59.577114\n",
       "53       59.166068\n",
       "44       59.090909"
      ]
     },
     "execution_count": 260,
     "metadata": {},
     "output_type": "execute_result"
    }
   ],
   "source": [
    "q3 = question3[['STATE_x','survived']]\n",
    "q3= q3.sort_values('survived', ascending=False).head(5)\n",
    "#Find top five states with highest survival rate (Total persons survived in a state/Total number of accidents in a state) \n",
    "\n",
    "q3.set_index('STATE_x')"
   ]
  },
  {
   "cell_type": "code",
   "execution_count": 177,
   "metadata": {},
   "outputs": [
    {
     "data": {
      "text/plain": [
       "Index([u'ST_CASE', u'COUNTY_x', u'AGE', u'SEX', u'PER_TYP', u'INJ_SEV',\n",
       "       u'SEAT_POS', u'DEATH_DA', u'DEATH_MO', u'DEATH_YR', u'DEATH_HR',\n",
       "       u'DEATH_MN', u'DEATH_TM', u'RACE', u'LOCATION', u'STATE', u'PERMVIT',\n",
       "       u'COUNTY_y', u'CITY', u'DAY', u'MONTH', u'YEAR', u'DAY_WEEK', u'HOUR',\n",
       "       u'MINUTE', u'ROUTE', u'TWAY_ID', u'TWAY_ID2', u'MILEPT', u'LATITUDE',\n",
       "       u'LONGITUD', u'SP_JUR', u'NOT_HOUR', u'NOT_MIN', u'ARR_HOUR',\n",
       "       u'ARR_MIN', u'HOSP_HR', u'HOSP_MN', u'DRUNK_DR'],\n",
       "      dtype='object')"
      ]
     },
     "execution_count": 177,
     "metadata": {},
     "output_type": "execute_result"
    }
   ],
   "source": [
    "question4.columns"
   ]
  },
  {
   "cell_type": "code",
   "execution_count": 178,
   "metadata": {},
   "outputs": [],
   "source": [
    "count_all = question4[['ST_CASE','MONTH']].groupby(['MONTH']).agg({'MONTH':['count']})"
   ]
  },
  {
   "cell_type": "code",
   "execution_count": 179,
   "metadata": {},
   "outputs": [
    {
     "data": {
      "text/plain": [
       "<matplotlib.axes._subplots.AxesSubplot at 0x16d3bb50>"
      ]
     },
     "execution_count": 179,
     "metadata": {},
     "output_type": "execute_result"
    },
    {
     "data": {
      "image/png": "[encoded data removed]",
      "text/plain": [
       "<matplotlib.figure.Figure at 0xa6ff970>"
      ]
     },
     "metadata": {},
     "output_type": "display_data"
    }
   ],
   "source": [
    "# Question 4-  Visualize the distribution of total persons involved in an accident in the 'STATE' = 36  month wise in 2015  \n",
    "count_all.plot(kind='bar',figsize=(10,10))"
   ]
  },
  {
   "cell_type": "code",
   "execution_count": 180,
   "metadata": {},
   "outputs": [
    {
     "data": {
      "text/plain": [
       "Index([u'ST_CASE', u'COUNTY_x', u'AGE', u'SEX', u'PER_TYP', u'INJ_SEV',\n",
       "       u'SEAT_POS', u'DEATH_DA', u'DEATH_MO', u'DEATH_YR', u'DEATH_HR',\n",
       "       u'DEATH_MN', u'DEATH_TM', u'RACE', u'LOCATION', u'STATE', u'PERMVIT',\n",
       "       u'COUNTY_y', u'CITY', u'DAY', u'MONTH', u'YEAR', u'DAY_WEEK', u'HOUR',\n",
       "       u'MINUTE', u'ROUTE', u'TWAY_ID', u'TWAY_ID2', u'MILEPT', u'LATITUDE',\n",
       "       u'LONGITUD', u'SP_JUR', u'NOT_HOUR', u'NOT_MIN', u'ARR_HOUR',\n",
       "       u'ARR_MIN', u'HOSP_HR', u'HOSP_MN', u'DRUNK_DR', u'VEH_NO', u'NCICMAKE',\n",
       "       u'VINYEAR', u'VEHTYPE', u'VEHTYPE_T', u'VINMAKE_T', u'VINMODEL_T',\n",
       "       u'VINTRIM_T', u'VINTRIM1_T', u'VINTRIM2_T', u'VINTRIM3_T',\n",
       "       u'VINTRIM4_T', u'BODYSTYL', u'BODYSTYL_T'],\n",
       "      dtype='object')"
      ]
     },
     "execution_count": 180,
     "metadata": {},
     "output_type": "execute_result"
    }
   ],
   "source": [
    "question5 = question4.merge(vindecode, on=('ST_CASE'))\n",
    "question5.columns"
   ]
  },
  {
   "cell_type": "code",
   "execution_count": 181,
   "metadata": {},
   "outputs": [],
   "source": [
    "question5_subset = question5[(question5.STATE == 36) & (question5.VINMAKE_T == 'FORD') & (question5.DEATH_YR == 8888)]"
   ]
  },
  {
   "cell_type": "code",
   "execution_count": 182,
   "metadata": {},
   "outputs": [
    {
     "data": {
      "text/plain": [
       "295"
      ]
     },
     "execution_count": 182,
     "metadata": {},
     "output_type": "execute_result"
    }
   ],
   "source": [
    "#Question 5 -Find the count of persons survived in an accident occurred in  'STATE' = 36 where the vehicle make is ‘FORD’ month wise in year 2015\n",
    "question5_subset.count()[0]\n"
   ]
  },
  {
   "cell_type": "code",
   "execution_count": null,
   "metadata": {},
   "outputs": [],
   "source": []
  }
 ],
 "metadata": {
  "kernelspec": {
   "display_name": "Python 2",
   "language": "python",
   "name": "python2"
  },
  "language_info": {
   "codemirror_mode": {
    "name": "ipython",
    "version": 2
   },
   "file_extension": ".py",
   "mimetype": "text/x-python",
   "name": "python",
   "nbconvert_exporter": "python",
   "pygments_lexer": "ipython2",
   "version": "2.7.14"
  }
 },
 "nbformat": 4,
 "nbformat_minor": 2
}
