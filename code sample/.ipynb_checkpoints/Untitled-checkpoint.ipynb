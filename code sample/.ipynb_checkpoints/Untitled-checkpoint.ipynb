{
 "cells": [
  {
   "cell_type": "code",
   "execution_count": 5,
   "metadata": {
    "collapsed": false,
    "deletable": true,
    "editable": true,
    "scrolled": true
   },
   "outputs": [
    {
     "name": "stdout",
     "output_type": "stream",
     "text": [
      "[0, 1, 2, 0, 0] [0, 0, 0, 3, 0]\n",
      "True\n"
     ]
    }
   ],
   "source": [
    "def window(size, values):\n",
    "    inc = [0] * size[0]\n",
    "    dec = [0] * size[0]\n",
    "    output = []\n",
    "    for x in range(size[0]):\n",
    "        inc[x] = 1 + inc[x - 1] if x and values[x] > values[x - 1] else 0\n",
    "        dec[x] = 1 + inc[x - 1] if x and values[x] < values[x - 1] else 0\n",
    "    print inc,dec\n",
    "    for x in range(size[1]):\n",
    "        if x+ size[1] <= size[0]:\n",
    "            noni = sum (inc[x:x+size[1]])\n",
    "            nond = sum (dec[x:x+size[1]])\n",
    "            output.append(noni - nond)\n",
    "    return output\n",
    "\n",
    "\n",
    "if __name__ == '__main__':\n",
    "     print window([5, 3], [188930 ,194123 ,201345, 154243 ,154243]) == [3, 0, -1]"
   ]
  },
  {
   "cell_type": "code",
   "execution_count": 65,
   "metadata": {
    "collapsed": false,
    "deletable": true,
    "editable": true
   },
   "outputs": [
    {
     "name": "stdout",
     "output_type": "stream",
     "text": [
      "('inc: ', [0, 1, 2, 0, 0])\n",
      "('dec: ', [0, 0, 0, 3, 0])\n",
      "('res: ', [3, 0, -1])\n",
      "[3, 0, -1]\n",
      "False\n"
     ]
    }
   ],
   "source": [
    "\n",
    "def checker(config, votes, DEBUG=False):\n",
    "\n",
    "    # Set up lists\n",
    "    inc = [0] * config[0]\n",
    "    dec = [0] * config[0]\n",
    "\n",
    "    output = []\n",
    "\n",
    "    # map increasing / decreasing\n",
    "    for x in range(config[0]):\n",
    "        inc[x] = 1 + inc[x - 1] if x and votes[x] > votes[x - 1] else 0\n",
    "        dec[x] = 1 + inc[x - 1] if x and votes[x] < votes[x - 1] else 0\n",
    "\n",
    "    for x in range(config[1]):\n",
    "        noni = 0\n",
    "        nond = 0\n",
    "        for i in range(config[1]):\n",
    "            if x+i < config[0]:\n",
    "                noni += inc[x + i]\n",
    "                nond += dec[x + i]\n",
    "        output.append(noni - nond)\n",
    "    \n",
    "    if True:\n",
    "        print(\"inc: \", inc)\n",
    "        print(\"dec: \", dec)\n",
    "        print(\"res: \", output)\n",
    "    print output\n",
    "    return output\n",
    "\n",
    "\n",
    "if __name__ == '__main__':\n",
    "    #(checker([5, 3], [188930 ,194123 ,201345, 154243 ,154243]) == [3, 0, -2])\n",
    "    print(checker([5, 3], [1, 2, 3, 1, 1]) == [3, 0, -2])"
   ]
  },
  {
   "cell_type": "code",
   "execution_count": null,
   "metadata": {
    "collapsed": true,
    "deletable": true,
    "editable": true
   },
   "outputs": [],
   "source": []
  },
  {
   "cell_type": "code",
   "execution_count": null,
   "metadata": {
    "collapsed": true,
    "deletable": true,
    "editable": true
   },
   "outputs": [],
   "source": []
  }
 ],
 "metadata": {
  "kernelspec": {
   "display_name": "Python 2",
   "language": "python",
   "name": "python2"
  },
  "language_info": {
   "codemirror_mode": {
    "name": "ipython",
    "version": 2
   },
   "file_extension": ".py",
   "mimetype": "text/x-python",
   "name": "python",
   "nbconvert_exporter": "python",
   "pygments_lexer": "ipython2",
   "version": "2.7.13"
  }
 },
 "nbformat": 4,
 "nbformat_minor": 2
}
