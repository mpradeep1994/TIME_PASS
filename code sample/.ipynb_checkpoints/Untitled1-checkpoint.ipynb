{
 "cells": [
  {
   "cell_type": "code",
   "execution_count": 3,
   "metadata": {
    "collapsed": false
   },
   "outputs": [
    {
     "name": "stdout",
     "output_type": "stream",
     "text": [
      "6\n",
      "6\n",
      "6\n"
     ]
    }
   ],
   "source": [
    "f = open('input.txt', 'r+')\n",
    "line1 = f.readline().split()\n",
    "n = int(line1[0])\n",
    "k = int(line1[1])\n",
    "line2 = f.readline().split()\n",
    "arr = [0] * n\n",
    "for i in range(len(arr)-1):\n",
    "    if int(line2[i+1])>int(line2[i]):\n",
    "        arr[i+1] = 1\n",
    "    elif int(line2[i+1])<int(line2[i]):\n",
    "        arr[i+1] = -1\n",
    "def incCount(sarr,k):\n",
    "    i=1\n",
    "    idc = 0\n",
    "    while i <= k:\n",
    "        j = 1\n",
    "        while j+i <= k:\n",
    "            if sum(sarr[j:j+i]) == i:\n",
    "                idc += 1\n",
    "            j += 1\n",
    "        i+=1\n",
    "    return idc\n",
    "def decCount(sarr,k):\n",
    "    i=1\n",
    "    idc = 0\n",
    "    while i <= k:\n",
    "        j = 1\n",
    "        while j+i <= k:\n",
    "            if sum(sarr[j:j+i]) == i*-1:\n",
    "                idc += 1\n",
    "            j += 1\n",
    "        i+=1\n",
    "    return idc\n",
    "start = 0 \n",
    "while start < len(arr)-k+1:\n",
    "    print incCount(arr[start:start+k],k) - decCount(arr[start:start+k],k)\n",
    "    start +=1"
   ]
  },
  {
   "cell_type": "code",
   "execution_count": null,
   "metadata": {
    "collapsed": true
   },
   "outputs": [],
   "source": []
  }
 ],
 "metadata": {
  "kernelspec": {
   "display_name": "Python 2",
   "language": "python",
   "name": "python2"
  },
  "language_info": {
   "codemirror_mode": {
    "name": "ipython",
    "version": 2
   },
   "file_extension": ".py",
   "mimetype": "text/x-python",
   "name": "python",
   "nbconvert_exporter": "python",
   "pygments_lexer": "ipython2",
   "version": "2.7.13"
  }
 },
 "nbformat": 4,
 "nbformat_minor": 2
}
