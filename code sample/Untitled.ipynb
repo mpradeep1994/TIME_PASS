{
 "cells": [
  {
   "cell_type": "code",
   "execution_count": 9,
   "metadata": {
    "collapsed": false,
    "deletable": true,
    "editable": true,
    "scrolled": true
   },
   "outputs": [
    {
     "name": "stdout",
     "output_type": "stream",
     "text": [
      "[0, 1, 2, 3, 4, 5] [0, 0, 0, 0, 0, 0]\n",
      "[6, 10, 14]\n",
      "False\n"
     ]
    }
   ],
   "source": [
    "def window(size, values):\n",
    "    inc = [0] * size[0]\n",
    "    dec = [0] * size[0]\n",
    "    output = []\n",
    "    for x in range(size[0]):\n",
    "        inc[x] = 1 + inc[x - 1] if x and values[x] > values[x - 1] else 0\n",
    "        dec[x] = 1 + inc[x - 1] if x and values[x] < values[x - 1] else 0\n",
    "    print inc,dec\n",
    "    for x in range(size[1]):\n",
    "        if x+ size[1] <= size[0]:\n",
    "            noni = sum (inc[x:x+size[1]])\n",
    "            nond = sum (dec[x:x+size[1]])\n",
    "            output.append(noni - nond)\n",
    "    print output\n",
    "    return output\n",
    "\n",
    "\n",
    "if __name__ == '__main__':\n",
    "     print window([6,4], [154240 ,154243, 188930, 194123, 194125, 201345]) == [3, 0, -1]"
   ]
  },
  {
   "cell_type": "code",
   "execution_count": 11,
   "metadata": {
    "collapsed": false,
    "deletable": true,
    "editable": true
   },
   "outputs": [
    {
     "ename": "IndexError",
     "evalue": "list index out of range",
     "output_type": "error",
     "traceback": [
      "\u001b[1;31m---------------------------------------------------------------------------\u001b[0m",
      "\u001b[1;31mIndexError\u001b[0m                                Traceback (most recent call last)",
      "\u001b[1;32m<ipython-input-11-80088adf1af2>\u001b[0m in \u001b[0;36m<module>\u001b[1;34m()\u001b[0m\n\u001b[0;32m     31\u001b[0m \u001b[1;33m\u001b[0m\u001b[0m\n\u001b[0;32m     32\u001b[0m \u001b[1;32mif\u001b[0m \u001b[0m__name__\u001b[0m \u001b[1;33m==\u001b[0m \u001b[1;34m'__main__'\u001b[0m\u001b[1;33m:\u001b[0m\u001b[1;33m\u001b[0m\u001b[0m\n\u001b[1;32m---> 33\u001b[1;33m     \u001b[1;32mprint\u001b[0m \u001b[0mchecker\u001b[0m\u001b[1;33m(\u001b[0m\u001b[1;33m[\u001b[0m\u001b[1;36m6\u001b[0m\u001b[1;33m,\u001b[0m\u001b[1;36m4\u001b[0m\u001b[1;33m]\u001b[0m\u001b[1;33m,\u001b[0m \u001b[1;33m[\u001b[0m\u001b[1;36m154240\u001b[0m \u001b[1;33m,\u001b[0m\u001b[1;36m154243\u001b[0m\u001b[1;33m,\u001b[0m \u001b[1;36m188930\u001b[0m\u001b[1;33m,\u001b[0m \u001b[1;36m194123\u001b[0m\u001b[1;33m,\u001b[0m \u001b[1;36m194125\u001b[0m\u001b[1;33m,\u001b[0m \u001b[1;36m201345\u001b[0m\u001b[1;33m]\u001b[0m\u001b[1;33m)\u001b[0m \u001b[1;33m==\u001b[0m \u001b[1;33m[\u001b[0m\u001b[1;36m3\u001b[0m\u001b[1;33m,\u001b[0m \u001b[1;36m0\u001b[0m\u001b[1;33m,\u001b[0m \u001b[1;33m-\u001b[0m\u001b[1;36m1\u001b[0m\u001b[1;33m]\u001b[0m\u001b[1;33m\u001b[0m\u001b[0m\n\u001b[0m\u001b[0;32m     34\u001b[0m     \u001b[1;32mprint\u001b[0m\u001b[1;33m(\u001b[0m\u001b[0mchecker\u001b[0m\u001b[1;33m(\u001b[0m\u001b[1;33m[\u001b[0m\u001b[1;36m5\u001b[0m\u001b[1;33m,\u001b[0m \u001b[1;36m3\u001b[0m\u001b[1;33m]\u001b[0m\u001b[1;33m,\u001b[0m \u001b[1;33m[\u001b[0m\u001b[1;36m1\u001b[0m\u001b[1;33m,\u001b[0m \u001b[1;36m2\u001b[0m\u001b[1;33m,\u001b[0m \u001b[1;36m3\u001b[0m\u001b[1;33m,\u001b[0m \u001b[1;36m1\u001b[0m\u001b[1;33m,\u001b[0m \u001b[1;36m1\u001b[0m\u001b[1;33m]\u001b[0m\u001b[1;33m)\u001b[0m \u001b[1;33m==\u001b[0m \u001b[1;33m[\u001b[0m\u001b[1;36m3\u001b[0m\u001b[1;33m,\u001b[0m \u001b[1;36m0\u001b[0m\u001b[1;33m,\u001b[0m \u001b[1;33m-\u001b[0m\u001b[1;36m2\u001b[0m\u001b[1;33m]\u001b[0m\u001b[1;33m)\u001b[0m\u001b[1;33m\u001b[0m\u001b[0m\n",
      "\u001b[1;32m<ipython-input-11-80088adf1af2>\u001b[0m in \u001b[0;36mchecker\u001b[1;34m(config, votes, DEBUG)\u001b[0m\n\u001b[0;32m     18\u001b[0m         \u001b[1;32mfor\u001b[0m \u001b[0mi\u001b[0m \u001b[1;32min\u001b[0m \u001b[0mrange\u001b[0m\u001b[1;33m(\u001b[0m\u001b[0mconfig\u001b[0m\u001b[1;33m[\u001b[0m\u001b[1;36m1\u001b[0m\u001b[1;33m]\u001b[0m\u001b[1;33m)\u001b[0m\u001b[1;33m:\u001b[0m\u001b[1;33m\u001b[0m\u001b[0m\n\u001b[0;32m     19\u001b[0m             \u001b[1;32mif\u001b[0m \u001b[0mx\u001b[0m\u001b[1;33m+\u001b[0m\u001b[0mi\u001b[0m \u001b[1;33m<=\u001b[0m \u001b[0mconfig\u001b[0m\u001b[1;33m[\u001b[0m\u001b[1;36m0\u001b[0m\u001b[1;33m]\u001b[0m\u001b[1;33m:\u001b[0m\u001b[1;33m\u001b[0m\u001b[0m\n\u001b[1;32m---> 20\u001b[1;33m                 \u001b[0mnoni\u001b[0m \u001b[1;33m+=\u001b[0m \u001b[0minc\u001b[0m\u001b[1;33m[\u001b[0m\u001b[0mx\u001b[0m \u001b[1;33m+\u001b[0m \u001b[0mi\u001b[0m\u001b[1;33m]\u001b[0m\u001b[1;33m\u001b[0m\u001b[0m\n\u001b[0m\u001b[0;32m     21\u001b[0m                 \u001b[0mnond\u001b[0m \u001b[1;33m+=\u001b[0m \u001b[0mdec\u001b[0m\u001b[1;33m[\u001b[0m\u001b[0mx\u001b[0m \u001b[1;33m+\u001b[0m \u001b[0mi\u001b[0m\u001b[1;33m]\u001b[0m\u001b[1;33m\u001b[0m\u001b[0m\n\u001b[0;32m     22\u001b[0m         \u001b[0moutput\u001b[0m\u001b[1;33m.\u001b[0m\u001b[0mappend\u001b[0m\u001b[1;33m(\u001b[0m\u001b[0mnoni\u001b[0m \u001b[1;33m-\u001b[0m \u001b[0mnond\u001b[0m\u001b[1;33m)\u001b[0m\u001b[1;33m\u001b[0m\u001b[0m\n",
      "\u001b[1;31mIndexError\u001b[0m: list index out of range"
     ]
    }
   ],
   "source": [
    "\n",
    "def checker(config, votes, DEBUG=False):\n",
    "\n",
    "    # Set up lists\n",
    "    inc = [0] * config[0]\n",
    "    dec = [0] * config[0]\n",
    "\n",
    "    output = []\n",
    "\n",
    "    # map increasing / decreasing\n",
    "    for x in range(config[0]):\n",
    "        inc[x] = 1 + inc[x - 1] if x and votes[x] > votes[x - 1] else 0\n",
    "        dec[x] = 1 + inc[x - 1] if x and votes[x] < votes[x - 1] else 0\n",
    "\n",
    "    for x in range(config[1]):\n",
    "        noni = 0\n",
    "        nond = 0\n",
    "        for i in range(config[1]):\n",
    "            if x+i <= config[0]:\n",
    "                noni += inc[x + i]\n",
    "                nond += dec[x + i]\n",
    "        output.append(noni - nond)\n",
    "    \n",
    "    if True:\n",
    "        print(\"inc: \", inc)\n",
    "        print(\"dec: \", dec)\n",
    "        print(\"res: \", output)\n",
    "    print output\n",
    "    return output\n",
    "\n",
    "\n",
    "if __name__ == '__main__':\n",
    "    print checker([6,4], [154240 ,154243, 188930, 194123, 194125, 201345]) == [3, 0, -1]\n",
    "    print(checker([5, 3], [1, 2, 3, 1, 1]) == [3, 0, -2])"
   ]
  },
  {
   "cell_type": "code",
   "execution_count": null,
   "metadata": {
    "collapsed": true,
    "deletable": true,
    "editable": true
   },
   "outputs": [],
   "source": []
  },
  {
   "cell_type": "code",
   "execution_count": null,
   "metadata": {
    "collapsed": true,
    "deletable": true,
    "editable": true
   },
   "outputs": [],
   "source": []
  }
 ],
 "metadata": {
  "kernelspec": {
   "display_name": "Python 2",
   "language": "python",
   "name": "python2"
  },
  "language_info": {
   "codemirror_mode": {
    "name": "ipython",
    "version": 2
   },
   "file_extension": ".py",
   "mimetype": "text/x-python",
   "name": "python",
   "nbconvert_exporter": "python",
   "pygments_lexer": "ipython2",
   "version": "2.7.13"
  }
 },
 "nbformat": 4,
 "nbformat_minor": 2
}
