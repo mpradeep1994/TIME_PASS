{
 "cells": [
  {
   "cell_type": "markdown",
   "metadata": {},
   "source": [
    "# Problems with Data\n"
   ]
  },
  {
   "cell_type": "markdown",
   "metadata": {},
   "source": [
    "● Missing Values \n",
    "\n",
    "    ■ Listwise Deletion: Delete all data from any participant with missing values. If your sample is large enough, then you likely can drop data without substantial loss of statistical power. \n",
    "    ■ Recover the Values\n",
    "    ■ Educated Guessing\n",
    "    ■ Average Imputation - age - median\n",
    "    ■ Common-Point Imputation - rating scale - mode\n",
    "    ■ Take multiple imputation -using linear regression.\n",
    "\n",
    "● Invalid Data\n",
    "\n",
    "    ■ Example, negative income - Resolve by dropping values, reassign or encode as unknown\n",
    "    ■ Change units of the values- income(hrly, weekly or annually)  \n",
    "        ■ Look at rolling averages over time\n",
    "        ■ Look for percentage null over time\n",
    "        ■ Plot the presence of data over time\n",
    "    ■ Check for duplicate rows - Identify a primary key\n",
    "    \n",
    "\n",
    "● Data range\n",
    "\n",
    "    ■ Too much of data or very less data both are problems\n",
    "● String Problems\n",
    "\n",
    "    ■ Extra leading or trailing spaces: “ cat” Vs “cat” Vs “cat “\n",
    "    ■ Capitalization: “cat” Vs “Cat” Vs “CAT” \n",
    "    ■ Plural versus singular: “cat” Vs “cats” \n",
    "    ■ Spelling errors: “cat” Vs “catt”\n",
    "    ■ Abbreviations: “California” Vs “CA” \n"
   ]
  },
  {
   "cell_type": "code",
   "execution_count": 83,
   "metadata": {
    "scrolled": true
   },
   "outputs": [],
   "source": [
    "import csv\n",
    "import pandas as pd\n",
    "import numpy as np\n",
    "from sklearn import tree\n",
    "from sklearn.metrics import accuracy_score\n",
    "from sklearn.metrics import confusion_matrix\n",
    "import re\n",
    "from sklearn.preprocessing import LabelBinarizer\n",
    "from sklearn.model_selection  import train_test_split\n",
    "from sklearn.model_selection  import KFold\n",
    "from sklearn import svm\n",
    "from sklearn.linear_model import LogisticRegression\n",
    "from sklearn.metrics import accuracy_score\n",
    "from sklearn.metrics import roc_curve, auc,roc_auc_score\n",
    "from sklearn import metrics\n",
    "from sklearn.preprocessing import label_binarize\n",
    "from ggplot import *\n",
    "import matplotlib.pyplot as plt"
   ]
  },
  {
   "cell_type": "code",
   "execution_count": 4,
   "metadata": {},
   "outputs": [],
   "source": [
    "df1= pd.read_csv(\"C:\\Users\\Pradeep\\Google Drive\\GitHub\\suganya work\\initialMemberMeetingAttendees.csv\")\n"
   ]
  },
  {
   "cell_type": "code",
   "execution_count": 5,
   "metadata": {},
   "outputs": [],
   "source": [
    "### Level2\n",
    "df1.level2.fillna('UN', inplace=True)\n",
    "level2_dummy = pd.get_dummies(df1['level2'], prefix='level2')\n",
    "df1 = pd.concat([df1,level2_dummy], axis=1)\n",
    "df1.drop('level2', axis=1, inplace=True)\n"
   ]
  },
  {
   "cell_type": "code",
   "execution_count": 6,
   "metadata": {},
   "outputs": [],
   "source": [
    "### level3\n",
    "df1.level3.fillna('UN', inplace=True)\n",
    "level3_dummy = pd.get_dummies(df1['level3'], prefix='level3')\n",
    "df1 = pd.concat([df1,level3_dummy], axis=1)\n",
    "df1.drop('level3', axis=1, inplace=True)\n"
   ]
  },
  {
   "cell_type": "code",
   "execution_count": 7,
   "metadata": {},
   "outputs": [],
   "source": [
    "### Unnamed . Changing the feature name to Department_\n",
    "df1.department.fillna('UN', inplace=True)\n",
    "department_dummy = pd.get_dummies(df1['department'], prefix='department')\n",
    "df1 = pd.concat([df1,department_dummy], axis=1)\n",
    "df1.drop('department', axis=1, inplace=True)"
   ]
  },
  {
   "cell_type": "code",
   "execution_count": 8,
   "metadata": {},
   "outputs": [],
   "source": [
    "### City\n",
    "df1.city.fillna('UN', inplace=True)\n",
    "city_dummy = pd.get_dummies(df1['city'], prefix='city')\n",
    "df1 = pd.concat([df1,city_dummy], axis=1)\n",
    "df1.drop('city', axis=1, inplace=True)"
   ]
  },
  {
   "cell_type": "code",
   "execution_count": 9,
   "metadata": {},
   "outputs": [],
   "source": [
    "### column state is dropped\n",
    "df1.drop('state',axis=1,inplace=True)"
   ]
  },
  {
   "cell_type": "code",
   "execution_count": 10,
   "metadata": {},
   "outputs": [],
   "source": [
    "### country\n",
    "df1.country.fillna('UN', inplace=True)\n",
    "country_dummy = pd.get_dummies(df1['country'], prefix='country')\n",
    "df1 = pd.concat([df1,country_dummy], axis=1)\n",
    "df1.drop('country', axis=1, inplace=True)"
   ]
  },
  {
   "cell_type": "code",
   "execution_count": 11,
   "metadata": {},
   "outputs": [],
   "source": [
    "### Conitnent\n",
    "df1.continent.fillna('UN', inplace=True)\n",
    "continent_dummy = pd.get_dummies(df1['continent'], prefix='continent')\n",
    "df1 = pd.concat([df1,continent_dummy], axis=1)\n",
    "df1.drop('continent', axis=1, inplace=True)"
   ]
  },
  {
   "cell_type": "code",
   "execution_count": 12,
   "metadata": {},
   "outputs": [],
   "source": [
    "# gender\n",
    "df1.gender.fillna('unknown', inplace=True)\n",
    "df1['gender']=df1['gender'].map({'MALE':1,'FEMALE':0,'NULL':2,'unknown':3})\n",
    "df1['gender']=df1.gender.astype(int)"
   ]
  },
  {
   "cell_type": "code",
   "execution_count": 13,
   "metadata": {},
   "outputs": [],
   "source": [
    "\"\"\"df1['age']=df1.age.astype(int)\n",
    "df1.age.fillna(df1.age.median(), inplace=True)\n",
    "df1.drop('age', axis=1, inplace=True)\n",
    "\"\"\"\n",
    "# age\n",
    "val= {'#VALUE!':0}\n",
    "df1['age']=df1['age'].replace(val)\n",
    "val= {0:df1.age.median()}\n",
    "df1['age']=df1['age'].replace(val)"
   ]
  },
  {
   "cell_type": "code",
   "execution_count": 15,
   "metadata": {},
   "outputs": [],
   "source": [
    "# practice\n",
    "df1.practice.fillna('UN', inplace=True)\n",
    "practice_dummy = pd.get_dummies(df1['practice'], prefix='practice')\n",
    "df1 = pd.concat([df1,practice_dummy], axis=1)\n",
    "df1.drop('practice', axis=1, inplace=True)"
   ]
  },
  {
   "cell_type": "code",
   "execution_count": 16,
   "metadata": {},
   "outputs": [
    {
     "data": {
      "text/plain": [
       "'\"\\n###df1.attendees.fillna(\\'unknown\\', inplace=True)\\n###df1[\\'attendees\\']=df1[\\'attendees\\'].map({\\'RG??\\':1,\\'unknown\\':0,\\'NaN\\':0})\\nregex_pat = re.compile(r\\'NaN\\',flags=re.IGNORECASE)\\n###pd.Series(df1[\\'attendees\\']).str.replace(regex_pat,\\'0\\')\\ndf1[\\'attendees\\']=df1.attendees.str.replace(r\\'Nan\\',\\'0\\')\\n###df1[\\'attendees\\']=df1.attendees.astype(int)\\n\\nlb_style = LabelBinarizer()\\nlb_results = lb_style.fit_transform(df1[\"level3\"])\\ndf1=pd.concat([df1,pd.DataFrame(lb_results)],axis=1)\\ndf1.drop(\\'level3\\',axis=1,inplace=True)\\n###df1[\\'attendees\\'] =re.sub(r\"^[0-9a-zA-Z]+\",\"0\",df1.attendees) \\n#df1[\\'attendees\\']=df1[\\'attendees\\'].replace(to_replace=\"NaN\",value=\"\\x00\",regex=True,inplace=True)\\n# del df1[\\'attendees\\']\\n# y= pd.read_csv(\"C:\\\\Users\\\\ar1\\\\Desktop\\\\InitialMemberMeetingAttendees.csv\")\\n'"
      ]
     },
     "execution_count": 16,
     "metadata": {},
     "output_type": "execute_result"
    }
   ],
   "source": [
    "\"\"\"\"\n",
    "###df1.attendees.fillna('unknown', inplace=True)\n",
    "###df1['attendees']=df1['attendees'].map({'RG??':1,'unknown':0,'NaN':0})\n",
    "regex_pat = re.compile(r'NaN',flags=re.IGNORECASE)\n",
    "###pd.Series(df1['attendees']).str.replace(regex_pat,'0')\n",
    "df1['attendees']=df1.attendees.str.replace(r'Nan','0')\n",
    "###df1['attendees']=df1.attendees.astype(int)\n",
    "\n",
    "lb_style = LabelBinarizer()\n",
    "lb_results = lb_style.fit_transform(df1[\"level3\"])\n",
    "df1=pd.concat([df1,pd.DataFrame(lb_results)],axis=1)\n",
    "df1.drop('level3',axis=1,inplace=True)\n",
    "###df1['attendees'] =re.sub(r\"^[0-9a-zA-Z]+\",\"0\",df1.attendees) \n",
    "#df1['attendees']=df1['attendees'].replace(to_replace=\"NaN\",value=\"\\0\",regex=True,inplace=True)\n",
    "# del df1['attendees']\n",
    "# y= pd.read_csv(\"C:\\\\Users\\\\ar1\\\\Desktop\\\\InitialMemberMeetingAttendees.csv\")\n",
    "\"\"\""
   ]
  },
  {
   "cell_type": "code",
   "execution_count": 17,
   "metadata": {},
   "outputs": [
    {
     "data": {
      "text/plain": [
       "RG12      3827\n",
       "RG11      3762\n",
       "RG10       578\n",
       "RG17       365\n",
       "RG15        96\n",
       "RG18        67\n",
       "RG14        35\n",
       "RG23        27\n",
       "RG95        12\n",
       "RG24         8\n",
       "RG21         6\n",
       "RG22         4\n",
       "RG97         4\n",
       "RG27         3\n",
       "RG31         2\n",
       "RGRXVI       1\n",
       "RG96         1\n",
       "Name: attendees, dtype: int64"
      ]
     },
     "execution_count": 17,
     "metadata": {},
     "output_type": "execute_result"
    }
   ],
   "source": [
    "print df1['attendees'].value_counts()"
   ]
  },
  {
   "cell_type": "code",
   "execution_count": 19,
   "metadata": {},
   "outputs": [],
   "source": [
    "y= df1\n",
    "y['attendees']=(y.attendees.notnull()).astype('int')\n",
    "y['attendees']=y['attendees'].fillna(0)\n",
    "#df1=df1.join(y['attendees'])"
   ]
  },
  {
   "cell_type": "code",
   "execution_count": 20,
   "metadata": {},
   "outputs": [
    {
     "data": {
      "text/plain": [
       "0    16188\n",
       "1     8798\n",
       "Name: attendees, dtype: int64"
      ]
     },
     "execution_count": 20,
     "metadata": {},
     "output_type": "execute_result"
    }
   ],
   "source": [
    "print df1['attendees'].value_counts()"
   ]
  },
  {
   "cell_type": "code",
   "execution_count": 150,
   "metadata": {},
   "outputs": [
    {
     "name": "stdout",
     "output_type": "stream",
     "text": [
      "shape before modelling (5000, 5515)\n"
     ]
    }
   ],
   "source": [
    "#rows X Columns\n",
    "print 'shape before modelling',df1.shape"
   ]
  },
  {
   "cell_type": "code",
   "execution_count": 22,
   "metadata": {},
   "outputs": [],
   "source": [
    "#get only 2500 rows\n",
    "df1=df1.iloc[:5000]\n",
    "print 'selecting only 5000 rows for fitting into the model'"
   ]
  },
  {
   "cell_type": "code",
   "execution_count": 23,
   "metadata": {},
   "outputs": [
    {
     "data": {
      "text/plain": [
       "(5000, 5516)"
      ]
     },
     "execution_count": 23,
     "metadata": {},
     "output_type": "execute_result"
    }
   ],
   "source": [
    "#rows X Columns\n",
    "print 'shape after modelling',df1.shape"
   ]
  },
  {
   "cell_type": "code",
   "execution_count": 24,
   "metadata": {},
   "outputs": [],
   "source": [
    "y = df1.pop('attendees')\n",
    "X = df1"
   ]
  },
  {
   "cell_type": "code",
   "execution_count": 25,
   "metadata": {
    "scrolled": true
   },
   "outputs": [],
   "source": [
    "X_train,X_test,y_train,y_test = train_test_split(X,y,test_size=0.4,random_state=42)"
   ]
  },
  {
   "cell_type": "code",
   "execution_count": 26,
   "metadata": {},
   "outputs": [],
   "source": [
    "#identify accuracy by using the K fold method\n",
    "def do_cross_validation(X, y,clf, n_folds=5):\n",
    "    cv = KFold(len(y), n_folds)\n",
    "    accuracies = []\n",
    "    for train_ind, test_ind in cv: \n",
    "        #print (train_ind, test_ind)\n",
    "        clf.fit(X[train_ind], y[train_ind])\n",
    "        predictions = clf.predict(X[test_ind])\n",
    "        accuracies.append(accuracy_score(y[test_ind], predictions))\n",
    "    avg = np.mean(accuracies)\n",
    "    return avg"
   ]
  },
  {
   "cell_type": "code",
   "execution_count": 27,
   "metadata": {},
   "outputs": [],
   "source": [
    "def decisionTree():\n",
    "    return tree.DecisionTreeClassifier(class_weight=None, criterion='gini', max_depth=None,\n",
    "            max_features=None, max_leaf_nodes=None, min_samples_leaf=1,\n",
    "            min_samples_split=2, min_weight_fraction_leaf=0.0,\n",
    "            presort=False, random_state=None, splitter='best')"
   ]
  },
  {
   "cell_type": "code",
   "execution_count": 28,
   "metadata": {},
   "outputs": [],
   "source": [
    "def find_accuracy(matrix):\n",
    "    return np.trace(matrix)*1.0/np.sum(matrix)"
   ]
  },
  {
   "cell_type": "code",
   "execution_count": 119,
   "metadata": {
    "scrolled": false
   },
   "outputs": [],
   "source": [
    "#Logistic\n",
    "clf = LogisticRegression()\n",
    "clf.fit(X_train,y_train)\n",
    "predictedY=clf.predict(X_test)\n"
   ]
  },
  {
   "cell_type": "code",
   "execution_count": 120,
   "metadata": {},
   "outputs": [
    {
     "data": {
      "text/plain": [
       "0.76300000000000001"
      ]
     },
     "execution_count": 120,
     "metadata": {},
     "output_type": "execute_result"
    }
   ],
   "source": [
    "accuracy_score(y_test, predictedY)"
   ]
  },
  {
   "cell_type": "code",
   "execution_count": 138,
   "metadata": {},
   "outputs": [],
   "source": [
    "#not for decision tree\n",
    "y_score = clf.fit(X_train, y_train).decision_function(X_test)\n",
    "roc_auc=roc_auc_score(y_test, y_score)\n",
    "fpr, tpr, _ = roc_curve(y_test, clf.predict_proba(X_test)[:,1])\n",
    "auc = metrics.auc(fpr,tpr)"
   ]
  },
  {
   "cell_type": "code",
   "execution_count": 139,
   "metadata": {},
   "outputs": [],
   "source": [
    "#Compute Area Under the Curve (AUC) using the trapezoidal rule\n",
    "fpr, tpr, thresholds = metrics.roc_curve(y_test, predictedY)\n",
    "auc = metrics.auc(fpr,tpr)"
   ]
  },
  {
   "cell_type": "code",
   "execution_count": 140,
   "metadata": {},
   "outputs": [
    {
     "data": {
      "image/png": "[encoded data removed]",
      "text/plain": [
       "<matplotlib.figure.Figure at 0x176b1b10>"
      ]
     },
     "metadata": {},
     "output_type": "display_data"
    }
   ],
   "source": [
    "plt.figure()\n",
    "lw = 2\n",
    "plt.plot(fpr, tpr, color='darkorange',\n",
    "         lw=lw, label='ROC curve (area = %0.2f)' % auc)\n",
    "plt.plot([0, 1], [0, 1], color='navy', lw=lw, linestyle='--')\n",
    "plt.xlim([0.0, 1.0])\n",
    "plt.ylim([0.0, 1.05])\n",
    "plt.xlabel('False Positive Rate')\n",
    "plt.ylabel('True Positive Rate')\n",
    "plt.title('Receiver operating characteristic')\n",
    "plt.legend(loc=\"lower right\")\n",
    "plt.show()"
   ]
  },
  {
   "cell_type": "code",
   "execution_count": 141,
   "metadata": {},
   "outputs": [
    {
     "data": {
      "image/png": "[encoded data removed]",
      "text/plain": [
       "<matplotlib.figure.Figure at 0x17daa570>"
      ]
     },
     "metadata": {},
     "output_type": "display_data"
    }
   ],
   "source": [
    "plt.figure()\n",
    "lw = 2\n",
    "plt.plot(fpr, tpr, color='darkorange',\n",
    "         lw=lw, label='ROC curve (area = %0.2f)' % roc_auc)\n",
    "plt.plot([0, 1], [0, 1], color='navy', lw=lw, linestyle='--')\n",
    "plt.xlim([0.0, 1.0])\n",
    "plt.ylim([0.0, 1.05])\n",
    "plt.xlabel('False Positive Rate')\n",
    "plt.ylabel('True Positive Rate')\n",
    "plt.title('ROC_AUC')\n",
    "plt.legend(loc=\"lower right\")\n",
    "plt.show()"
   ]
  },
  {
   "cell_type": "code",
   "execution_count": 143,
   "metadata": {},
   "outputs": [],
   "source": [
    "#descision tree\n",
    "clf = decisionTree()\n",
    "clf.fit(X_train,y_train)\n",
    "predictedY=clf.predict(X_test)"
   ]
  },
  {
   "cell_type": "code",
   "execution_count": 144,
   "metadata": {},
   "outputs": [
    {
     "data": {
      "text/plain": [
       "0.72650000000000003"
      ]
     },
     "execution_count": 144,
     "metadata": {},
     "output_type": "execute_result"
    }
   ],
   "source": [
    "accuracy_score(y_test, predictedY)"
   ]
  },
  {
   "cell_type": "code",
   "execution_count": 146,
   "metadata": {},
   "outputs": [],
   "source": [
    "#not for decision tree\n",
    "\n",
    "fpr, tpr, _ = roc_curve(y_test, clf.predict_proba(X_test)[:,1])\n",
    "auc = metrics.auc(fpr,tpr)"
   ]
  },
  {
   "cell_type": "code",
   "execution_count": 147,
   "metadata": {},
   "outputs": [],
   "source": [
    "#Compute Area Under the Curve (AUC) using the trapezoidal rule\n",
    "fpr, tpr, thresholds = metrics.roc_curve(y_test, predictedY)\n",
    "auc = metrics.auc(fpr,tpr)"
   ]
  },
  {
   "cell_type": "code",
   "execution_count": 148,
   "metadata": {},
   "outputs": [
    {
     "data": {
      "image/png": "[encoded data removed]",
      "text/plain": [
       "<matplotlib.figure.Figure at 0x17d282f0>"
      ]
     },
     "metadata": {},
     "output_type": "display_data"
    }
   ],
   "source": [
    "plt.figure()\n",
    "lw = 2\n",
    "plt.plot(fpr, tpr, color='darkorange',\n",
    "         lw=lw, label='ROC curve (area = %0.2f)' % auc)\n",
    "plt.plot([0, 1], [0, 1], color='navy', lw=lw, linestyle='--')\n",
    "plt.xlim([0.0, 1.0])\n",
    "plt.ylim([0.0, 1.05])\n",
    "plt.xlabel('False Positive Rate')\n",
    "plt.ylabel('True Positive Rate')\n",
    "plt.title('Receiver operating characteristic')\n",
    "plt.legend(loc=\"lower right\")\n",
    "plt.show()"
   ]
  },
  {
   "cell_type": "code",
   "execution_count": null,
   "metadata": {},
   "outputs": [],
   "source": []
  }
 ],
 "metadata": {
  "kernelspec": {
   "display_name": "Python 2",
   "language": "python",
   "name": "python2"
  },
  "language_info": {
   "codemirror_mode": {
    "name": "ipython",
    "version": 2
   },
   "file_extension": ".py",
   "mimetype": "text/x-python",
   "name": "python",
   "nbconvert_exporter": "python",
   "pygments_lexer": "ipython2",
   "version": "2.7.14"
  }
 },
 "nbformat": 4,
 "nbformat_minor": 2
}
