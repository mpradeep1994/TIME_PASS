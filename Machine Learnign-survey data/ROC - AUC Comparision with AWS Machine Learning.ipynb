{
 "cells": [
  {
   "cell_type": "code",
   "execution_count": 141,
   "metadata": {},
   "outputs": [],
   "source": [
    "import pandas as pd\n",
    "import numpy as np\n",
    "from pandas import read_csv\n",
    "from sklearn.preprocessing import LabelBinarizer"
   ]
  },
  {
   "cell_type": "code",
   "execution_count": 142,
   "metadata": {
    "scrolled": true
   },
   "outputs": [
    {
     "name": "stdout",
     "output_type": "stream",
     "text": [
      "       Level 2 Level 3       City  State        Country      Continent  \\\n",
      "count    24986   24986      24986  19926          24986          24986   \n",
      "unique       3      32       5208   1486            209              6   \n",
      "top          C       M  Sao Paulo     No  United States  North America   \n",
      "freq     13077    6237        607   2090           9958          11933   \n",
      "\n",
      "       Geneder Practice Attendees    dob  \n",
      "count    24985    24986     24986  24850  \n",
      "unique       3        5         4     75  \n",
      "top       MALE       No        No   1987  \n",
      "freq     15563    15806     16188   2155  \n"
     ]
    }
   ],
   "source": [
    "obj_df = read_csv('data.csv', na_values=\"?\")\n",
    "print(obj_df.describe())"
   ]
  },
  {
   "cell_type": "code",
   "execution_count": 143,
   "metadata": {},
   "outputs": [
    {
     "data": {
      "text/plain": [
       "Level 2      5194\n",
       "Level 3      5194\n",
       "City         5194\n",
       "State         134\n",
       "Country      5194\n",
       "Continent    5194\n",
       "Geneder      5193\n",
       "Practice     5194\n",
       "Attendees    5194\n",
       "dob          5058\n",
       "dtype: int64"
      ]
     },
     "execution_count": 143,
     "metadata": {},
     "output_type": "execute_result"
    }
   ],
   "source": [
    "obj_df[obj_df.isnull().any(axis=1)].count()\n"
   ]
  },
  {
   "cell_type": "code",
   "execution_count": 144,
   "metadata": {},
   "outputs": [],
   "source": [
    "#check for null values\n",
    "obj_df[\"State\"].isnull().sum()\n",
    "#subtitute value for null\n",
    "obj_df = obj_df.fillna({\"State\": \"random\"})"
   ]
  },
  {
   "cell_type": "code",
   "execution_count": 145,
   "metadata": {},
   "outputs": [
    {
     "data": {
      "text/plain": [
       "random                 5060\n",
       "No                     2090\n",
       "CA                     1007\n",
       "NY                      966\n",
       "SP                      820\n",
       "IL                      766\n",
       "TX                      638\n",
       "PA                      574\n",
       "MA                      507\n",
       "FL                      501\n",
       "MI                      442\n",
       "OH                      393\n",
       "ON                      310\n",
       "MD                      300\n",
       "NJ                      292\n",
       "CX                      268\n",
       "MO                      245\n",
       "WA                      222\n",
       "MN                      220\n",
       "WI                      217\n",
       "GA                      216\n",
       "NC                      216\n",
       "VA                      212\n",
       "TN                      179\n",
       "QC                      177\n",
       "AZ                      170\n",
       "CT                      169\n",
       "RJ                      158\n",
       "PR                      141\n",
       "CF                      139\n",
       "                       ... \n",
       "Amhara                    1\n",
       "Osterbro                  1\n",
       "Norther Ireland           1\n",
       "Genoa                     1\n",
       "Potenza                   1\n",
       "Newcastle Upon Tyne       1\n",
       "Nagaland                  1\n",
       "Valencia Centro           1\n",
       "County Down               1\n",
       "Port au Prince            1\n",
       "Gdansk                    1\n",
       "Granada                   1\n",
       "Miyazaki-ken              1\n",
       "Baja California           1\n",
       "Gyeonggido                1\n",
       "Graubuenden               1\n",
       "Uedesheim                 1\n",
       "Delicias                  1\n",
       "Rio De Janeiro            1\n",
       "Bahcelievler              1\n",
       "Co Dublin                 1\n",
       "GLD                       1\n",
       "Metroplitana              1\n",
       "Kyung-gi do               1\n",
       "Songpa-Gu                 1\n",
       "FR                        1\n",
       "OSUN                      1\n",
       "Anand                     1\n",
       "Nj                        1\n",
       "KwaZulu Natal             1\n",
       "Name: State, Length: 1487, dtype: int64"
      ]
     },
     "execution_count": 145,
     "metadata": {},
     "output_type": "execute_result"
    }
   ],
   "source": [
    "#check NO and Random\n",
    "obj_df[\"State\"].value_counts()"
   ]
  },
  {
   "cell_type": "code",
   "execution_count": 146,
   "metadata": {},
   "outputs": [
    {
     "data": {
      "text/plain": [
       "MALE      15563\n",
       "FEMALE     9180\n",
       "No          242\n",
       "Name: Geneder, dtype: int64"
      ]
     },
     "execution_count": 146,
     "metadata": {},
     "output_type": "execute_result"
    }
   ],
   "source": [
    "obj_df[\"Geneder\"].value_counts()"
   ]
  },
  {
   "cell_type": "code",
   "execution_count": 58,
   "metadata": {},
   "outputs": [
    {
     "data": {
      "text/html": [
       "<div>\n",
       "<style scoped>\n",
       "    .dataframe tbody tr th:only-of-type {\n",
       "        vertical-align: middle;\n",
       "    }\n",
       "\n",
       "    .dataframe tbody tr th {\n",
       "        vertical-align: top;\n",
       "    }\n",
       "\n",
       "    .dataframe thead th {\n",
       "        text-align: right;\n",
       "    }\n",
       "</style>\n",
       "<table border=\"1\" class=\"dataframe\">\n",
       "  <thead>\n",
       "    <tr style=\"text-align: right;\">\n",
       "      <th></th>\n",
       "      <th>Level 2</th>\n",
       "      <th>Level 3</th>\n",
       "      <th>City</th>\n",
       "      <th>State</th>\n",
       "      <th>Country</th>\n",
       "      <th>Continent</th>\n",
       "      <th>Geneder</th>\n",
       "      <th>Practice</th>\n",
       "      <th>Attendees</th>\n",
       "      <th>dob</th>\n",
       "    </tr>\n",
       "  </thead>\n",
       "  <tbody>\n",
       "    <tr>\n",
       "      <th>0</th>\n",
       "      <td>2</td>\n",
       "      <td>M</td>\n",
       "      <td>Philadelphia</td>\n",
       "      <td>PA</td>\n",
       "      <td>United States</td>\n",
       "      <td>North America</td>\n",
       "      <td>MALE</td>\n",
       "      <td>ACADEMIC</td>\n",
       "      <td>No</td>\n",
       "      <td>1948</td>\n",
       "    </tr>\n",
       "    <tr>\n",
       "      <th>1</th>\n",
       "      <td>2</td>\n",
       "      <td>M</td>\n",
       "      <td>Prospect</td>\n",
       "      <td>KY</td>\n",
       "      <td>United States</td>\n",
       "      <td>North America</td>\n",
       "      <td>MALE</td>\n",
       "      <td>PRIVATE</td>\n",
       "      <td>No</td>\n",
       "      <td>1959</td>\n",
       "    </tr>\n",
       "    <tr>\n",
       "      <th>2</th>\n",
       "      <td>2</td>\n",
       "      <td>M</td>\n",
       "      <td>Philadelphia</td>\n",
       "      <td>PA</td>\n",
       "      <td>United States</td>\n",
       "      <td>North America</td>\n",
       "      <td>MALE</td>\n",
       "      <td>ACADEMIC</td>\n",
       "      <td>No</td>\n",
       "      <td>1948</td>\n",
       "    </tr>\n",
       "    <tr>\n",
       "      <th>3</th>\n",
       "      <td>2</td>\n",
       "      <td>M</td>\n",
       "      <td>Syracuse</td>\n",
       "      <td>NY</td>\n",
       "      <td>United States</td>\n",
       "      <td>North America</td>\n",
       "      <td>MALE</td>\n",
       "      <td>ACADEMIC</td>\n",
       "      <td>Yes</td>\n",
       "      <td>1954</td>\n",
       "    </tr>\n",
       "    <tr>\n",
       "      <th>4</th>\n",
       "      <td>2</td>\n",
       "      <td>M</td>\n",
       "      <td>Delray Beach</td>\n",
       "      <td>FL</td>\n",
       "      <td>United States</td>\n",
       "      <td>North America</td>\n",
       "      <td>MALE</td>\n",
       "      <td>PRIVATE</td>\n",
       "      <td>Yes</td>\n",
       "      <td>1954</td>\n",
       "    </tr>\n",
       "  </tbody>\n",
       "</table>\n",
       "</div>"
      ],
      "text/plain": [
       "   Level 2 Level 3          City State        Country      Continent Geneder  \\\n",
       "0        2       M  Philadelphia    PA  United States  North America    MALE   \n",
       "1        2       M      Prospect    KY  United States  North America    MALE   \n",
       "2        2       M  Philadelphia    PA  United States  North America    MALE   \n",
       "3        2       M      Syracuse    NY  United States  North America    MALE   \n",
       "4        2       M  Delray Beach    FL  United States  North America    MALE   \n",
       "\n",
       "   Practice Attendees   dob  \n",
       "0  ACADEMIC        No  1948  \n",
       "1   PRIVATE        No  1959  \n",
       "2  ACADEMIC        No  1948  \n",
       "3  ACADEMIC       Yes  1954  \n",
       "4   PRIVATE       Yes  1954  "
      ]
     },
     "execution_count": 58,
     "metadata": {},
     "output_type": "execute_result"
    }
   ],
   "source": [
    "#cleaning level 2\n",
    "0\n",
    "obj_df.head()"
   ]
  },
  {
   "cell_type": "code",
   "execution_count": 60,
   "metadata": {},
   "outputs": [],
   "source": [
    "#check for null values  \n",
    "obj_df[\"Level 3\"].isnull().sum()\n",
    "#create field as category\n",
    "obj_df[\"Level 3\"] = obj_df[\"Level 3\"].astype('category')\n",
    "#substitute categorical values\n",
    "obj_df[\"Level 3\"] = obj_df[\"Level 3\"].cat.codes\n",
    "obj_df.head()"
   ]
  },
  {
   "cell_type": "code",
   "execution_count": 93,
   "metadata": {},
   "outputs": [
    {
     "data": {
      "text/plain": [
       "0        False\n",
       "1        False\n",
       "2        False\n",
       "3        False\n",
       "4        False\n",
       "5        False\n",
       "6        False\n",
       "7        False\n",
       "8        False\n",
       "9        False\n",
       "10       False\n",
       "11       False\n",
       "12       False\n",
       "13       False\n",
       "14       False\n",
       "15       False\n",
       "16       False\n",
       "17       False\n",
       "18       False\n",
       "19       False\n",
       "20       False\n",
       "21       False\n",
       "22       False\n",
       "23       False\n",
       "24       False\n",
       "25       False\n",
       "26       False\n",
       "27       False\n",
       "28       False\n",
       "29       False\n",
       "         ...  \n",
       "24956    False\n",
       "24957    False\n",
       "24958    False\n",
       "24959    False\n",
       "24960    False\n",
       "24961    False\n",
       "24962    False\n",
       "24963    False\n",
       "24964    False\n",
       "24965    False\n",
       "24966    False\n",
       "24967    False\n",
       "24968    False\n",
       "24969    False\n",
       "24970    False\n",
       "24971    False\n",
       "24972    False\n",
       "24973    False\n",
       "24974    False\n",
       "24975    False\n",
       "24976    False\n",
       "24977    False\n",
       "24978    False\n",
       "24979    False\n",
       "24980    False\n",
       "24981    False\n",
       "24982    False\n",
       "24983    False\n",
       "24984    False\n",
       "24985    False\n",
       "Name: Geneder, Length: 24986, dtype: bool"
      ]
     },
     "execution_count": 93,
     "metadata": {},
     "output_type": "execute_result"
    }
   ],
   "source": [
    "#check for null values in gender\n",
    "obj_df[\"Geneder\"].isnull()"
   ]
  },
  {
   "cell_type": "code",
   "execution_count": 99,
   "metadata": {},
   "outputs": [],
   "source": [
    "cleanup_nums = {\"Geneder\": {\"MALE\": 1, \"FEMALE\": 2,\"No\":2}}\n",
    "obj_df=obj_df.replace(cleanup_nums, inplace=True)"
   ]
  },
  {
   "cell_type": "code",
   "execution_count": 147,
   "metadata": {},
   "outputs": [
    {
     "data": {
      "text/plain": [
       "No        16188\n",
       "Yes        8796\n",
       "RGRXVI        1\n",
       "RG96          1\n",
       "Name: Attendees, dtype: int64"
      ]
     },
     "execution_count": 147,
     "metadata": {},
     "output_type": "execute_result"
    }
   ],
   "source": [
    "obj_df[\"Attendees\"].value_counts()"
   ]
  },
  {
   "cell_type": "code",
   "execution_count": 101,
   "metadata": {},
   "outputs": [
    {
     "data": {
      "text/html": [
       "<div>\n",
       "<style scoped>\n",
       "    .dataframe tbody tr th:only-of-type {\n",
       "        vertical-align: middle;\n",
       "    }\n",
       "\n",
       "    .dataframe tbody tr th {\n",
       "        vertical-align: top;\n",
       "    }\n",
       "\n",
       "    .dataframe thead th {\n",
       "        text-align: right;\n",
       "    }\n",
       "</style>\n",
       "<table border=\"1\" class=\"dataframe\">\n",
       "  <thead>\n",
       "    <tr style=\"text-align: right;\">\n",
       "      <th></th>\n",
       "      <th>Level 2</th>\n",
       "      <th>Level 3</th>\n",
       "      <th>City</th>\n",
       "      <th>State</th>\n",
       "      <th>Country</th>\n",
       "      <th>Continent</th>\n",
       "      <th>Geneder</th>\n",
       "      <th>Practice</th>\n",
       "      <th>Attendees</th>\n",
       "      <th>dob</th>\n",
       "    </tr>\n",
       "  </thead>\n",
       "  <tbody>\n",
       "    <tr>\n",
       "      <th>0</th>\n",
       "      <td>2</td>\n",
       "      <td>10</td>\n",
       "      <td>Philadelphia</td>\n",
       "      <td>PA</td>\n",
       "      <td>United States</td>\n",
       "      <td>North America</td>\n",
       "      <td>1.0</td>\n",
       "      <td>ACADEMIC</td>\n",
       "      <td>No</td>\n",
       "      <td>1948</td>\n",
       "    </tr>\n",
       "    <tr>\n",
       "      <th>1</th>\n",
       "      <td>2</td>\n",
       "      <td>10</td>\n",
       "      <td>Prospect</td>\n",
       "      <td>KY</td>\n",
       "      <td>United States</td>\n",
       "      <td>North America</td>\n",
       "      <td>1.0</td>\n",
       "      <td>PRIVATE</td>\n",
       "      <td>No</td>\n",
       "      <td>1959</td>\n",
       "    </tr>\n",
       "    <tr>\n",
       "      <th>2</th>\n",
       "      <td>2</td>\n",
       "      <td>10</td>\n",
       "      <td>Philadelphia</td>\n",
       "      <td>PA</td>\n",
       "      <td>United States</td>\n",
       "      <td>North America</td>\n",
       "      <td>1.0</td>\n",
       "      <td>ACADEMIC</td>\n",
       "      <td>No</td>\n",
       "      <td>1948</td>\n",
       "    </tr>\n",
       "    <tr>\n",
       "      <th>3</th>\n",
       "      <td>2</td>\n",
       "      <td>10</td>\n",
       "      <td>Syracuse</td>\n",
       "      <td>NY</td>\n",
       "      <td>United States</td>\n",
       "      <td>North America</td>\n",
       "      <td>1.0</td>\n",
       "      <td>ACADEMIC</td>\n",
       "      <td>Yes</td>\n",
       "      <td>1954</td>\n",
       "    </tr>\n",
       "    <tr>\n",
       "      <th>4</th>\n",
       "      <td>2</td>\n",
       "      <td>10</td>\n",
       "      <td>Delray Beach</td>\n",
       "      <td>FL</td>\n",
       "      <td>United States</td>\n",
       "      <td>North America</td>\n",
       "      <td>1.0</td>\n",
       "      <td>PRIVATE</td>\n",
       "      <td>Yes</td>\n",
       "      <td>1954</td>\n",
       "    </tr>\n",
       "  </tbody>\n",
       "</table>\n",
       "</div>"
      ],
      "text/plain": [
       "   Level 2  Level 3          City State        Country      Continent  \\\n",
       "0        2       10  Philadelphia    PA  United States  North America   \n",
       "1        2       10      Prospect    KY  United States  North America   \n",
       "2        2       10  Philadelphia    PA  United States  North America   \n",
       "3        2       10      Syracuse    NY  United States  North America   \n",
       "4        2       10  Delray Beach    FL  United States  North America   \n",
       "\n",
       "   Geneder  Practice Attendees   dob  \n",
       "0      1.0  ACADEMIC        No  1948  \n",
       "1      1.0   PRIVATE        No  1959  \n",
       "2      1.0  ACADEMIC        No  1948  \n",
       "3      1.0  ACADEMIC       Yes  1954  \n",
       "4      1.0   PRIVATE       Yes  1954  "
      ]
     },
     "execution_count": 101,
     "metadata": {},
     "output_type": "execute_result"
    }
   ],
   "source": [
    "obj_df.head()"
   ]
  },
  {
   "cell_type": "code",
   "execution_count": 153,
   "metadata": {},
   "outputs": [
    {
     "ename": "AttributeError",
     "evalue": "'Series' object has no attribute 'null'",
     "output_type": "error",
     "traceback": [
      "\u001b[1;31m---------------------------------------------------------------------------\u001b[0m",
      "\u001b[1;31mAttributeError\u001b[0m                            Traceback (most recent call last)",
      "\u001b[1;32m<ipython-input-153-166eceb11f9c>\u001b[0m in \u001b[0;36m<module>\u001b[1;34m()\u001b[0m\n\u001b[1;32m----> 1\u001b[1;33m \u001b[0mobj_df\u001b[0m\u001b[1;33m[\u001b[0m\u001b[1;34m'Attendees'\u001b[0m\u001b[1;33m]\u001b[0m\u001b[1;33m.\u001b[0m\u001b[0mnull\u001b[0m\u001b[1;33m(\u001b[0m\u001b[1;33m)\u001b[0m\u001b[1;33m\u001b[0m\u001b[0m\n\u001b[0m",
      "\u001b[1;32mc:\\python27\\lib\\site-packages\\pandas\\core\\generic.pyc\u001b[0m in \u001b[0;36m__getattr__\u001b[1;34m(self, name)\u001b[0m\n\u001b[0;32m   3612\u001b[0m             \u001b[1;32mif\u001b[0m \u001b[0mname\u001b[0m \u001b[1;32min\u001b[0m \u001b[0mself\u001b[0m\u001b[1;33m.\u001b[0m\u001b[0m_info_axis\u001b[0m\u001b[1;33m:\u001b[0m\u001b[1;33m\u001b[0m\u001b[0m\n\u001b[0;32m   3613\u001b[0m                 \u001b[1;32mreturn\u001b[0m \u001b[0mself\u001b[0m\u001b[1;33m[\u001b[0m\u001b[0mname\u001b[0m\u001b[1;33m]\u001b[0m\u001b[1;33m\u001b[0m\u001b[0m\n\u001b[1;32m-> 3614\u001b[1;33m             \u001b[1;32mreturn\u001b[0m \u001b[0mobject\u001b[0m\u001b[1;33m.\u001b[0m\u001b[0m__getattribute__\u001b[0m\u001b[1;33m(\u001b[0m\u001b[0mself\u001b[0m\u001b[1;33m,\u001b[0m \u001b[0mname\u001b[0m\u001b[1;33m)\u001b[0m\u001b[1;33m\u001b[0m\u001b[0m\n\u001b[0m\u001b[0;32m   3615\u001b[0m \u001b[1;33m\u001b[0m\u001b[0m\n\u001b[0;32m   3616\u001b[0m     \u001b[1;32mdef\u001b[0m \u001b[0m__setattr__\u001b[0m\u001b[1;33m(\u001b[0m\u001b[0mself\u001b[0m\u001b[1;33m,\u001b[0m \u001b[0mname\u001b[0m\u001b[1;33m,\u001b[0m \u001b[0mvalue\u001b[0m\u001b[1;33m)\u001b[0m\u001b[1;33m:\u001b[0m\u001b[1;33m\u001b[0m\u001b[0m\n",
      "\u001b[1;31mAttributeError\u001b[0m: 'Series' object has no attribute 'null'"
     ]
    }
   ],
   "source": [
    "obj_df['Attendees'].null()"
   ]
  },
  {
   "cell_type": "code",
   "execution_count": 148,
   "metadata": {},
   "outputs": [
    {
     "data": {
      "text/plain": [
       "1    24986\n",
       "Name: Attendees, dtype: int64"
      ]
     },
     "execution_count": 148,
     "metadata": {},
     "output_type": "execute_result"
    }
   ],
   "source": [
    "df['Attendees'].value_counts()"
   ]
  },
  {
   "cell_type": "code",
   "execution_count": 109,
   "metadata": {},
   "outputs": [],
   "source": [
    "lb_style = LabelBinarizer()\n",
    "lb_results = lb_style.fit_transform(obj_df[\"Practice\"])\n",
    "asd=pd.DataFrame(lb_results, columns=lb_style.classes_)"
   ]
  },
  {
   "cell_type": "code",
   "execution_count": 113,
   "metadata": {},
   "outputs": [
    {
     "ename": "TypeError",
     "evalue": "cannot concatenate object of type \"<type 'numpy.ndarray'>\"; only pd.Series, pd.DataFrame, and pd.Panel (deprecated) objs are valid",
     "output_type": "error",
     "traceback": [
      "\u001b[1;31m---------------------------------------------------------------------------\u001b[0m",
      "\u001b[1;31mTypeError\u001b[0m                                 Traceback (most recent call last)",
      "\u001b[1;32m<ipython-input-113-24324917d68e>\u001b[0m in \u001b[0;36m<module>\u001b[1;34m()\u001b[0m\n\u001b[1;32m----> 1\u001b[1;33m \u001b[0mobj_df\u001b[0m\u001b[1;33m.\u001b[0m\u001b[0mappend\u001b[0m\u001b[1;33m(\u001b[0m\u001b[0mlb_results\u001b[0m\u001b[1;33m)\u001b[0m\u001b[1;33m\u001b[0m\u001b[0m\n\u001b[0m",
      "\u001b[1;32mc:\\python27\\lib\\site-packages\\pandas\\core\\frame.pyc\u001b[0m in \u001b[0;36mappend\u001b[1;34m(self, other, ignore_index, verify_integrity)\u001b[0m\n\u001b[0;32m   5169\u001b[0m             \u001b[0mto_concat\u001b[0m \u001b[1;33m=\u001b[0m \u001b[1;33m[\u001b[0m\u001b[0mself\u001b[0m\u001b[1;33m,\u001b[0m \u001b[0mother\u001b[0m\u001b[1;33m]\u001b[0m\u001b[1;33m\u001b[0m\u001b[0m\n\u001b[0;32m   5170\u001b[0m         return concat(to_concat, ignore_index=ignore_index,\n\u001b[1;32m-> 5171\u001b[1;33m                       verify_integrity=verify_integrity)\n\u001b[0m\u001b[0;32m   5172\u001b[0m \u001b[1;33m\u001b[0m\u001b[0m\n\u001b[0;32m   5173\u001b[0m     def join(self, other, on=None, how='left', lsuffix='', rsuffix='',\n",
      "\u001b[1;32mc:\\python27\\lib\\site-packages\\pandas\\core\\reshape\\concat.pyc\u001b[0m in \u001b[0;36mconcat\u001b[1;34m(objs, axis, join, join_axes, ignore_index, keys, levels, names, verify_integrity, copy)\u001b[0m\n\u001b[0;32m    210\u001b[0m                        \u001b[0mkeys\u001b[0m\u001b[1;33m=\u001b[0m\u001b[0mkeys\u001b[0m\u001b[1;33m,\u001b[0m \u001b[0mlevels\u001b[0m\u001b[1;33m=\u001b[0m\u001b[0mlevels\u001b[0m\u001b[1;33m,\u001b[0m \u001b[0mnames\u001b[0m\u001b[1;33m=\u001b[0m\u001b[0mnames\u001b[0m\u001b[1;33m,\u001b[0m\u001b[1;33m\u001b[0m\u001b[0m\n\u001b[0;32m    211\u001b[0m                        \u001b[0mverify_integrity\u001b[0m\u001b[1;33m=\u001b[0m\u001b[0mverify_integrity\u001b[0m\u001b[1;33m,\u001b[0m\u001b[1;33m\u001b[0m\u001b[0m\n\u001b[1;32m--> 212\u001b[1;33m                        copy=copy)\n\u001b[0m\u001b[0;32m    213\u001b[0m     \u001b[1;32mreturn\u001b[0m \u001b[0mop\u001b[0m\u001b[1;33m.\u001b[0m\u001b[0mget_result\u001b[0m\u001b[1;33m(\u001b[0m\u001b[1;33m)\u001b[0m\u001b[1;33m\u001b[0m\u001b[0m\n\u001b[0;32m    214\u001b[0m \u001b[1;33m\u001b[0m\u001b[0m\n",
      "\u001b[1;32mc:\\python27\\lib\\site-packages\\pandas\\core\\reshape\\concat.pyc\u001b[0m in \u001b[0;36m__init__\u001b[1;34m(self, objs, axis, join, join_axes, keys, levels, names, ignore_index, verify_integrity, copy)\u001b[0m\n\u001b[0;32m    270\u001b[0m                        \u001b[1;34m' only pd.Series, pd.DataFrame, and pd.Panel'\u001b[0m\u001b[1;33m\u001b[0m\u001b[0m\n\u001b[0;32m    271\u001b[0m                        ' (deprecated) objs are valid'.format(type(obj)))\n\u001b[1;32m--> 272\u001b[1;33m                 \u001b[1;32mraise\u001b[0m \u001b[0mTypeError\u001b[0m\u001b[1;33m(\u001b[0m\u001b[0mmsg\u001b[0m\u001b[1;33m)\u001b[0m\u001b[1;33m\u001b[0m\u001b[0m\n\u001b[0m\u001b[0;32m    273\u001b[0m \u001b[1;33m\u001b[0m\u001b[0m\n\u001b[0;32m    274\u001b[0m             \u001b[1;31m# consolidate\u001b[0m\u001b[1;33m\u001b[0m\u001b[1;33m\u001b[0m\u001b[0m\n",
      "\u001b[1;31mTypeError\u001b[0m: cannot concatenate object of type \"<type 'numpy.ndarray'>\"; only pd.Series, pd.DataFrame, and pd.Panel (deprecated) objs are valid"
     ]
    }
   ],
   "source": [
    "obj_df.append(lb_results)"
   ]
  },
  {
   "cell_type": "code",
   "execution_count": null,
   "metadata": {},
   "outputs": [],
   "source": []
  }
 ],
 "metadata": {
  "kernelspec": {
   "display_name": "Python 2",
   "language": "python",
   "name": "python2"
  },
  "language_info": {
   "codemirror_mode": {
    "name": "ipython",
    "version": 2
   },
   "file_extension": ".py",
   "mimetype": "text/x-python",
   "name": "python",
   "nbconvert_exporter": "python",
   "pygments_lexer": "ipython2",
   "version": "2.7.14"
  }
 },
 "nbformat": 4,
 "nbformat_minor": 2
}
